{
 "cells": [
  {
   "cell_type": "markdown",
   "metadata": {},
   "source": [
    "# Яковлев Д.С ИУ5-21М\n",
    "## Рубежный контроль 1\n",
    "### Вариант 14\n",
    "### Задание: Задача №2.\n",
    "#### Для заданного набора данных проведите обработку пропусков в данных.\n",
    "#### Какие способы обработки пропусков в данных для категориальных и количественных признаков Вы использовали? \n",
    "Для заполнения пропусков в количественных данных была произведена импутация средних (mean) значений по признаку при помощи классса SimpleImputer библиотеки sklearn.impute.\n",
    "Для заполнения пропусков в категориальных данных была произведена импутация наиболее часто встречающихся значений при помощи классса SimpleImputer библиотеки sklearn.impute, а также преобразование в количественные признаки при помощи классса LabelEncoder библиотеки sklearn.preprocessing.\n",
    "#### Какие признаки Вы будете использовать для дальнейшего построения моделей машинного обучения и почему?\n",
    "В дальнейшем планируется использовать признаки Mag и Stations.\n",
    "Используемые признаки показывают когда и сколько станций зарегестрировало землетрясения, по ним можно предстказывать, когда будет очередное.\n",
    "#### Для заданного набора данных произведите масштабирование данных и преобразование категориальных признаков в количественные. \n",
    "#### Какие методы Вы использовали для решения задачи и почему?\n",
    "Было произведено 3 варианта масштабирования - MinMax, Z - ценка и нормализация при помощи классов MinMaxScaler, StandardScaler, Normalizer библиотеки sklearn.preprocessing. \n",
    "В результате нормализации все значения были приведены к 1 или к 0, в связи с чем данный вид нормализации перестал отображать какие-либо зависимости, в отличие от методов MinMaxScaler, StandardScaler, которые дали похожие результаты, отличающиеся диапазоном.\n",
    "#### Для пары произвольных колонок данных построить график \"Диаграмма рассеяния\"."
   ]
  },
  {
   "cell_type": "markdown",
   "metadata": {},
   "source": [
    "### Загрузка набора данных"
   ]
  },
  {
   "cell_type": "code",
   "execution_count": 40,
   "metadata": {},
   "outputs": [],
   "source": [
    "import numpy as np\n",
    "import pandas as pd\n",
    "import seaborn as sns\n",
    "import matplotlib.pyplot as plt\n",
    "from sklearn.impute import SimpleImputer\n",
    "from sklearn.impute import MissingIndicator\n",
    "from sklearn.preprocessing import LabelEncoder\n",
    "from sklearn.preprocessing import MinMaxScaler, StandardScaler, Normalizer\n",
    "%matplotlib inline \n",
    "sns.set(style=\"ticks\")"
   ]
  },
  {
   "cell_type": "code",
   "execution_count": 41,
   "metadata": {},
   "outputs": [],
   "source": [
    "data = pd.read_csv('data.csv',\";\")"
   ]
  },
  {
   "cell_type": "code",
   "execution_count": 42,
   "metadata": {},
   "outputs": [
    {
     "data": {
      "text/plain": [
       "(1000, 6)"
      ]
     },
     "execution_count": 42,
     "metadata": {},
     "output_type": "execute_result"
    }
   ],
   "source": [
    "data.shape"
   ]
  },
  {
   "cell_type": "code",
   "execution_count": 43,
   "metadata": {},
   "outputs": [
    {
     "data": {
      "text/plain": [
       "num           int64\n",
       "lat         float64\n",
       "long        float64\n",
       "depth       float64\n",
       "mag          object\n",
       "stations      int64\n",
       "dtype: object"
      ]
     },
     "execution_count": 43,
     "metadata": {},
     "output_type": "execute_result"
    }
   ],
   "source": [
    "data.dtypes"
   ]
  },
  {
   "cell_type": "markdown",
   "metadata": {},
   "source": [
    "##### Кол-во пустых значений в колонках"
   ]
  },
  {
   "cell_type": "code",
   "execution_count": 44,
   "metadata": {},
   "outputs": [
    {
     "data": {
      "text/plain": [
       "num          0\n",
       "lat          0\n",
       "long        12\n",
       "depth        6\n",
       "mag          0\n",
       "stations     0\n",
       "dtype: int64"
      ]
     },
     "execution_count": 44,
     "metadata": {},
     "output_type": "execute_result"
    }
   ],
   "source": [
    "data.isnull().sum()"
   ]
  },
  {
   "cell_type": "code",
   "execution_count": 45,
   "metadata": {},
   "outputs": [
    {
     "data": {
      "text/html": [
       "<div>\n",
       "<style scoped>\n",
       "    .dataframe tbody tr th:only-of-type {\n",
       "        vertical-align: middle;\n",
       "    }\n",
       "\n",
       "    .dataframe tbody tr th {\n",
       "        vertical-align: top;\n",
       "    }\n",
       "\n",
       "    .dataframe thead th {\n",
       "        text-align: right;\n",
       "    }\n",
       "</style>\n",
       "<table border=\"1\" class=\"dataframe\">\n",
       "  <thead>\n",
       "    <tr style=\"text-align: right;\">\n",
       "      <th></th>\n",
       "      <th>num</th>\n",
       "      <th>lat</th>\n",
       "      <th>long</th>\n",
       "      <th>depth</th>\n",
       "      <th>mag</th>\n",
       "      <th>stations</th>\n",
       "    </tr>\n",
       "  </thead>\n",
       "  <tbody>\n",
       "    <tr>\n",
       "      <th>0</th>\n",
       "      <td>1</td>\n",
       "      <td>-20.42</td>\n",
       "      <td>181.62</td>\n",
       "      <td>562.0</td>\n",
       "      <td>04.Aug</td>\n",
       "      <td>41</td>\n",
       "    </tr>\n",
       "    <tr>\n",
       "      <th>1</th>\n",
       "      <td>2</td>\n",
       "      <td>-20.62</td>\n",
       "      <td>181.03</td>\n",
       "      <td>650.0</td>\n",
       "      <td>04.Feb</td>\n",
       "      <td>15</td>\n",
       "    </tr>\n",
       "    <tr>\n",
       "      <th>2</th>\n",
       "      <td>3</td>\n",
       "      <td>-26.00</td>\n",
       "      <td>184.10</td>\n",
       "      <td>42.0</td>\n",
       "      <td>05.Apr</td>\n",
       "      <td>43</td>\n",
       "    </tr>\n",
       "    <tr>\n",
       "      <th>3</th>\n",
       "      <td>4</td>\n",
       "      <td>-17.97</td>\n",
       "      <td>181.66</td>\n",
       "      <td>626.0</td>\n",
       "      <td>04.Jan</td>\n",
       "      <td>19</td>\n",
       "    </tr>\n",
       "    <tr>\n",
       "      <th>4</th>\n",
       "      <td>5</td>\n",
       "      <td>-20.42</td>\n",
       "      <td>181.96</td>\n",
       "      <td>649.0</td>\n",
       "      <td>4</td>\n",
       "      <td>11</td>\n",
       "    </tr>\n",
       "  </tbody>\n",
       "</table>\n",
       "</div>"
      ],
      "text/plain": [
       "   num    lat    long  depth     mag  stations\n",
       "0    1 -20.42  181.62  562.0  04.Aug        41\n",
       "1    2 -20.62  181.03  650.0  04.Feb        15\n",
       "2    3 -26.00  184.10   42.0  05.Apr        43\n",
       "3    4 -17.97  181.66  626.0  04.Jan        19\n",
       "4    5 -20.42  181.96  649.0       4        11"
      ]
     },
     "execution_count": 45,
     "metadata": {},
     "output_type": "execute_result"
    }
   ],
   "source": [
    "data.head()"
   ]
  },
  {
   "cell_type": "code",
   "execution_count": 46,
   "metadata": {},
   "outputs": [
    {
     "name": "stdout",
     "output_type": "stream",
     "text": [
      "Строки в наборе : 1000\n"
     ]
    }
   ],
   "source": [
    "total_count = data.shape[0]\n",
    "print('Строки в наборе : {}'.format(total_count))"
   ]
  },
  {
   "cell_type": "markdown",
   "metadata": {},
   "source": [
    "## Обработка пропусков\n",
    "##### Удаление колонок, содержащих пустые значения"
   ]
  },
  {
   "cell_type": "code",
   "execution_count": 47,
   "metadata": {},
   "outputs": [
    {
     "data": {
      "text/plain": [
       "((1000, 6), (1000, 4))"
      ]
     },
     "execution_count": 47,
     "metadata": {},
     "output_type": "execute_result"
    }
   ],
   "source": [
    "data_new_1 = data.dropna(axis=1, how='any')\n",
    "(data.shape, data_new_1.shape)"
   ]
  },
  {
   "cell_type": "markdown",
   "metadata": {},
   "source": [
    "##### Удаление строк, содержащих пустые значения"
   ]
  },
  {
   "cell_type": "code",
   "execution_count": 48,
   "metadata": {},
   "outputs": [
    {
     "data": {
      "text/plain": [
       "((1000, 6), (982, 6))"
      ]
     },
     "execution_count": 48,
     "metadata": {},
     "output_type": "execute_result"
    }
   ],
   "source": [
    "data_new_2 = data.dropna(axis=0, how='any')\n",
    "(data.shape, data_new_2.shape)"
   ]
  },
  {
   "cell_type": "markdown",
   "metadata": {},
   "source": [
    "Видим, что при удалении колонок с пустыми значениями удаляется слишком много колонок, а при удалении строк с пропусками удаляются вообще все строки. Сделаем вывод, что эти методы не подходят\n",
    "\n",
    "##### Заполнение всех пропущенных значений нулями"
   ]
  },
  {
   "cell_type": "code",
   "execution_count": 49,
   "metadata": {},
   "outputs": [
    {
     "data": {
      "text/html": [
       "<div>\n",
       "<style scoped>\n",
       "    .dataframe tbody tr th:only-of-type {\n",
       "        vertical-align: middle;\n",
       "    }\n",
       "\n",
       "    .dataframe tbody tr th {\n",
       "        vertical-align: top;\n",
       "    }\n",
       "\n",
       "    .dataframe thead th {\n",
       "        text-align: right;\n",
       "    }\n",
       "</style>\n",
       "<table border=\"1\" class=\"dataframe\">\n",
       "  <thead>\n",
       "    <tr style=\"text-align: right;\">\n",
       "      <th></th>\n",
       "      <th>num</th>\n",
       "      <th>lat</th>\n",
       "      <th>long</th>\n",
       "      <th>depth</th>\n",
       "      <th>mag</th>\n",
       "      <th>stations</th>\n",
       "    </tr>\n",
       "  </thead>\n",
       "  <tbody>\n",
       "    <tr>\n",
       "      <th>0</th>\n",
       "      <td>1</td>\n",
       "      <td>-20.42</td>\n",
       "      <td>181.62</td>\n",
       "      <td>562.0</td>\n",
       "      <td>04.Aug</td>\n",
       "      <td>41</td>\n",
       "    </tr>\n",
       "    <tr>\n",
       "      <th>1</th>\n",
       "      <td>2</td>\n",
       "      <td>-20.62</td>\n",
       "      <td>181.03</td>\n",
       "      <td>650.0</td>\n",
       "      <td>04.Feb</td>\n",
       "      <td>15</td>\n",
       "    </tr>\n",
       "    <tr>\n",
       "      <th>2</th>\n",
       "      <td>3</td>\n",
       "      <td>-26.00</td>\n",
       "      <td>184.10</td>\n",
       "      <td>42.0</td>\n",
       "      <td>05.Apr</td>\n",
       "      <td>43</td>\n",
       "    </tr>\n",
       "    <tr>\n",
       "      <th>3</th>\n",
       "      <td>4</td>\n",
       "      <td>-17.97</td>\n",
       "      <td>181.66</td>\n",
       "      <td>626.0</td>\n",
       "      <td>04.Jan</td>\n",
       "      <td>19</td>\n",
       "    </tr>\n",
       "    <tr>\n",
       "      <th>4</th>\n",
       "      <td>5</td>\n",
       "      <td>-20.42</td>\n",
       "      <td>181.96</td>\n",
       "      <td>649.0</td>\n",
       "      <td>4</td>\n",
       "      <td>11</td>\n",
       "    </tr>\n",
       "  </tbody>\n",
       "</table>\n",
       "</div>"
      ],
      "text/plain": [
       "   num    lat    long  depth     mag  stations\n",
       "0    1 -20.42  181.62  562.0  04.Aug        41\n",
       "1    2 -20.62  181.03  650.0  04.Feb        15\n",
       "2    3 -26.00  184.10   42.0  05.Apr        43\n",
       "3    4 -17.97  181.66  626.0  04.Jan        19\n",
       "4    5 -20.42  181.96  649.0       4        11"
      ]
     },
     "execution_count": 49,
     "metadata": {},
     "output_type": "execute_result"
    }
   ],
   "source": [
    "data_new_3 = data.fillna(0)\n",
    "data_new_3.head()"
   ]
  },
  {
   "cell_type": "markdown",
   "metadata": {},
   "source": [
    "## Импьютация"
   ]
  },
  {
   "cell_type": "markdown",
   "metadata": {},
   "source": [
    "### Числовые данные\n",
    "\n",
    "##### Выберем числовые колонки с пропущенными значениями"
   ]
  },
  {
   "cell_type": "code",
   "execution_count": 50,
   "metadata": {},
   "outputs": [],
   "source": [
    "num_cols = []\n",
    "def print_nones_num():\n",
    "    print('Колонка -  Тип данных - Количество пустых значений')\n",
    "    for col in data.columns:\n",
    "        # Количество пустых значений \n",
    "        temp_null_count = data[data[col].isnull()].shape[0]\n",
    "        dt = str(data[col].dtype)\n",
    "        if temp_null_count>0 and (dt=='float64' or dt=='int64'):\n",
    "            num_cols.append(col)\n",
    "            temp_perc = round((temp_null_count / total_count) * 100.0, 2)\n",
    "            print('{} - {} - {}'.format(col,\n",
    "                                        dt,  \n",
    "                                        temp_null_count,\n",
    "                                        temp_perc))"
   ]
  },
  {
   "cell_type": "code",
   "execution_count": 51,
   "metadata": {},
   "outputs": [
    {
     "name": "stdout",
     "output_type": "stream",
     "text": [
      "Колонка -  Тип данных - Количество пустых значений\n",
      "long - float64 - 12\n",
      "depth - float64 - 6\n"
     ]
    }
   ],
   "source": [
    "print_nones_num()"
   ]
  },
  {
   "cell_type": "markdown",
   "metadata": {},
   "source": [
    "##### Фильтр по колонкам с пропущенными значениями"
   ]
  },
  {
   "cell_type": "code",
   "execution_count": 52,
   "metadata": {},
   "outputs": [
    {
     "data": {
      "text/html": [
       "<div>\n",
       "<style scoped>\n",
       "    .dataframe tbody tr th:only-of-type {\n",
       "        vertical-align: middle;\n",
       "    }\n",
       "\n",
       "    .dataframe tbody tr th {\n",
       "        vertical-align: top;\n",
       "    }\n",
       "\n",
       "    .dataframe thead th {\n",
       "        text-align: right;\n",
       "    }\n",
       "</style>\n",
       "<table border=\"1\" class=\"dataframe\">\n",
       "  <thead>\n",
       "    <tr style=\"text-align: right;\">\n",
       "      <th></th>\n",
       "      <th>long</th>\n",
       "      <th>depth</th>\n",
       "    </tr>\n",
       "  </thead>\n",
       "  <tbody>\n",
       "    <tr>\n",
       "      <th>0</th>\n",
       "      <td>181.62</td>\n",
       "      <td>562.0</td>\n",
       "    </tr>\n",
       "    <tr>\n",
       "      <th>1</th>\n",
       "      <td>181.03</td>\n",
       "      <td>650.0</td>\n",
       "    </tr>\n",
       "    <tr>\n",
       "      <th>2</th>\n",
       "      <td>184.10</td>\n",
       "      <td>42.0</td>\n",
       "    </tr>\n",
       "    <tr>\n",
       "      <th>3</th>\n",
       "      <td>181.66</td>\n",
       "      <td>626.0</td>\n",
       "    </tr>\n",
       "    <tr>\n",
       "      <th>4</th>\n",
       "      <td>181.96</td>\n",
       "      <td>649.0</td>\n",
       "    </tr>\n",
       "    <tr>\n",
       "      <th>...</th>\n",
       "      <td>...</td>\n",
       "      <td>...</td>\n",
       "    </tr>\n",
       "    <tr>\n",
       "      <th>995</th>\n",
       "      <td>179.54</td>\n",
       "      <td>470.0</td>\n",
       "    </tr>\n",
       "    <tr>\n",
       "      <th>996</th>\n",
       "      <td>167.06</td>\n",
       "      <td>248.0</td>\n",
       "    </tr>\n",
       "    <tr>\n",
       "      <th>997</th>\n",
       "      <td>184.20</td>\n",
       "      <td>244.0</td>\n",
       "    </tr>\n",
       "    <tr>\n",
       "      <th>998</th>\n",
       "      <td>187.80</td>\n",
       "      <td>40.0</td>\n",
       "    </tr>\n",
       "    <tr>\n",
       "      <th>999</th>\n",
       "      <td>170.56</td>\n",
       "      <td>165.0</td>\n",
       "    </tr>\n",
       "  </tbody>\n",
       "</table>\n",
       "<p>1000 rows × 2 columns</p>\n",
       "</div>"
      ],
      "text/plain": [
       "       long  depth\n",
       "0    181.62  562.0\n",
       "1    181.03  650.0\n",
       "2    184.10   42.0\n",
       "3    181.66  626.0\n",
       "4    181.96  649.0\n",
       "..      ...    ...\n",
       "995  179.54  470.0\n",
       "996  167.06  248.0\n",
       "997  184.20  244.0\n",
       "998  187.80   40.0\n",
       "999  170.56  165.0\n",
       "\n",
       "[1000 rows x 2 columns]"
      ]
     },
     "execution_count": 52,
     "metadata": {},
     "output_type": "execute_result"
    }
   ],
   "source": [
    "data_num = data[num_cols]\n",
    "data_num"
   ]
  },
  {
   "cell_type": "markdown",
   "metadata": {},
   "source": [
    "### Функция импутации, которая позволяет задавать колонку и вид импьютации"
   ]
  },
  {
   "cell_type": "code",
   "execution_count": 53,
   "metadata": {},
   "outputs": [],
   "source": [
    "strategies=['mean', 'median','most_frequent']"
   ]
  },
  {
   "cell_type": "code",
   "execution_count": 54,
   "metadata": {},
   "outputs": [],
   "source": [
    "def test_num_impute_col(dataset, column, strategy_param):\n",
    "    temp_data = dataset[[column]]\n",
    "    \n",
    "    indicator = MissingIndicator()\n",
    "    mask_missing_values_only = indicator.fit_transform(temp_data)\n",
    "    \n",
    "    imp_num = SimpleImputer(strategy=strategy_param)\n",
    "    data_num_imp = imp_num.fit_transform(temp_data)\n",
    "   \n",
    "    filled_data = data_num_imp[mask_missing_values_only]\n",
    "    dataset[column] = data_num_imp\n",
    "    \n",
    "    return column, data_num_imp, strategy_param, filled_data.size, filled_data[0], filled_data[filled_data.size-1]"
   ]
  },
  {
   "cell_type": "code",
   "execution_count": 55,
   "metadata": {},
   "outputs": [],
   "source": [
    "for col in data_num:\n",
    "    imp = test_num_impute_col(data, col, strategies[0])\n",
    "    data[col] = imp[1]"
   ]
  },
  {
   "cell_type": "markdown",
   "metadata": {},
   "source": [
    "#### Проверим, что не осталось числовых колонок с пустыми значениями"
   ]
  },
  {
   "cell_type": "code",
   "execution_count": 56,
   "metadata": {},
   "outputs": [
    {
     "name": "stdout",
     "output_type": "stream",
     "text": [
      "Колонка -  Тип данных - Количество пустых значений\n"
     ]
    }
   ],
   "source": [
    "print_nones_num()"
   ]
  },
  {
   "cell_type": "markdown",
   "metadata": {},
   "source": [
    "## Обработка пропусков в категориальных данных"
   ]
  },
  {
   "cell_type": "code",
   "execution_count": 57,
   "metadata": {},
   "outputs": [],
   "source": [
    "# Выберем категориальные колонки с пропущенными значениями\n",
    "# Цикл по колонкам датасета\n",
    "cat_cols = []\n",
    "def print_nones_cat():\n",
    "    print('Колонка - Тип данных - Количество пустых значений' )\n",
    "    for col in data.columns:\n",
    "        # Количество пустых значений \n",
    "        temp_null_count = data[data[col].isnull()].shape[0]\n",
    "        dt = str(data[col].dtype)\n",
    "        if temp_null_count>0 and (dt=='object'):\n",
    "            cat_cols.append(col)\n",
    "            temp_perc = round((temp_null_count / total_count) * 100.0, 2)\n",
    "            print('{} - {} - {}, {}%.'.format(col, dt, temp_null_count, temp_perc))"
   ]
  },
  {
   "cell_type": "code",
   "execution_count": 58,
   "metadata": {},
   "outputs": [
    {
     "name": "stdout",
     "output_type": "stream",
     "text": [
      "Колонка - Тип данных - Количество пустых значений\n"
     ]
    }
   ],
   "source": [
    "print_nones_cat()"
   ]
  },
  {
   "cell_type": "code",
   "execution_count": 59,
   "metadata": {},
   "outputs": [
    {
     "data": {
      "text/plain": [
       "[]"
      ]
     },
     "execution_count": 59,
     "metadata": {},
     "output_type": "execute_result"
    }
   ],
   "source": [
    "cat_temp_data1 = []\n",
    "for col in cat_cols:\n",
    "    cat_temp_data1.append(data[[col]])\n",
    "cat_temp_data1"
   ]
  },
  {
   "cell_type": "markdown",
   "metadata": {},
   "source": [
    "### Импьютация и  преобразование категориальных признаков в числовые"
   ]
  },
  {
   "cell_type": "markdown",
   "metadata": {},
   "source": [
    "#### Импьютация наиболее частыми значениями"
   ]
  },
  {
   "cell_type": "code",
   "execution_count": 60,
   "metadata": {
    "scrolled": false
   },
   "outputs": [],
   "source": [
    "def cat_imp(strategy='most_frequent'):\n",
    "    le = LabelEncoder()\n",
    "    for col in cat_temp_data1:\n",
    "        imp3 = SimpleImputer(missing_values=np.nan, strategy=strategy, fill_value='!!!!!')\n",
    "        data_imp3 = imp3.fit_transform(col)\n",
    "        cat_enc = pd.DataFrame({col.columns[0]:data_imp3.T[0]})\n",
    "#         cat_enc_le = le.fit_transform(cat_enc[col.columns[0]])\n",
    "        print(col.columns[0], ': ', cat_enc)\n",
    "        data[col.columns[0]] = cat_enc\n"
   ]
  },
  {
   "cell_type": "code",
   "execution_count": 61,
   "metadata": {},
   "outputs": [],
   "source": [
    "cat_imp()"
   ]
  },
  {
   "cell_type": "code",
   "execution_count": 62,
   "metadata": {},
   "outputs": [],
   "source": [
    "def cat_to_num():\n",
    "    le = LabelEncoder()\n",
    "    for col in data.columns:\n",
    "        dt = str(data[col].dtype)\n",
    "        if (dt=='object'):\n",
    "            cat_enc_le = le.fit_transform(data[col])\n",
    "            print(col, ': ', cat_enc_le)\n",
    "            data[col] = cat_enc_le\n"
   ]
  },
  {
   "cell_type": "markdown",
   "metadata": {},
   "source": [
    "#### Преобразование категориальных в числовые значения"
   ]
  },
  {
   "cell_type": "code",
   "execution_count": 63,
   "metadata": {},
   "outputs": [
    {
     "name": "stdout",
     "output_type": "stream",
     "text": [
      "mag :  [ 1  2  9  3 19 19  1  0  4  6  0  5  0  0 18  6 21  7  0  0  7  2  0  4\n",
      "  9 19  5 10  7  0  5  4  1 19  7  6  7  5  3  0  4  5  0  6  5  8  7  0\n",
      "  6 11  2 19  5  6  2  0  7 19  0  6  4  3 20  5  8  4  3 20  7 15 19  7\n",
      "  6 10  0  6  3  7  2 14 10  7  5  6 19  6  4  7  2  6 11  4 10  2  2 19\n",
      "  7 10 11  4  3  5  4  4  5  2  0  5 12 20  7  2 19  1  0  2 14  4  1  2\n",
      "  1  6  4  7  0 11  2 20  1  6  7  2  7  5  6  4 11  5  8  2  5 19 20  0\n",
      "  2  2  0  8 14 19 12 17  6  2  4  4  2  6  8  5  3  1  5  5  1 20 13 14\n",
      "  4  7  6  5  3  3  3 12 20  7  3  5  7  6  0  2  3  8  6  8  5  5 14  4\n",
      "  5  3  5  2  5  7  6 10  6 19  4  7  7  6 10  7  4  2  4  6  3  9  6  6\n",
      "  2  5  0  2  4  5  8  2  7  8  2  7 20 20  4  6  0  8  7 19  0 20  4  1\n",
      "  7  3 14  1 20  5  6  4 14  2  4  7 11  8  0  2  5  4  2  8 11  4  0  0\n",
      "  2  8  5  0  5  7  0  8  3  2 12  5 20  6  7 10  0  2  5 19  0  4  2  4\n",
      "  7 20 20  1  5  5 20 20 13 19 19  5  0  1  4  5  6  4  3  8  5  1  8 11\n",
      "  9  7  8  0  3 14  7  8  1 10  0  0  8  0  2  5  5 14 14  7  0 20 11  7\n",
      "  7  9  7  4  2  1  7  6  6  6  5  7 20  5  5  8  3 15  4 20 11 15  5  4\n",
      "  2 19  9  6  0  5 11  7  2  3 11  9 11 11  0 12  0 11  5 15 11  0 20 20\n",
      " 11 11  2  7 19  8  6  1  0  2  8  2 14 20 12 14  4  5  6  9  0  6  6  4\n",
      "  0  2  7  1  1  6  0 11  0  0  6  1  6  7  3 11  4  5  4  5  0  2  3  4\n",
      " 19  1  0  6  0  7  7  4  6  4  1  5 11  4  6 11 15  7  6  6  4  6  6  5\n",
      "  7  7  9  5  0 20 10  0 11  0  0  1  0  4  4  0  6 20  7  5  9  5  7  0\n",
      "  7  3 19  8  3 10  0  3  8  5  7  1  2  2  3 15  0  1  2  1  8  5  7  0\n",
      "  5  2  4  0  7  8  4 15  4  5  3  4  5  6  0  4  6  3  4  7 15  7  5 11\n",
      "  0  4 15  5 19  5  1  4  4  2  9  5 15  2  7  7  1  5  9  5 20  6  6  1\n",
      "  4  4  1  2  2 16  5  7  8  4  8 14  2  2  7 10  7 13 10  1  7 20  0  7\n",
      "  5  7 10 11  1  6 11  4  5  1  5  0  5 11  6  0  4  1  3  5  8 19  4  4\n",
      " 10  5  5  8 12  4  0  8  1  5  0  1  4  2 11  1  8 11  6  0  4  4 14 11\n",
      "  8  7  4  2 11  1  2  1  0  7  6 13 19 20  2  5  5  7 20  4  5  1  5  0\n",
      " 13  2  9  1 13  0  4  5 11  5  7  2  1  8 15 20  2 10  1  0  1  0  3  8\n",
      "  5  7 14  1  5  1  4  8 14  0  5  6  0  2  3  2 20  3  6 10  2  7  0  0\n",
      " 20 19  1 20  2 10 10  7  6  7  5 11  0  6  4 13  8 11  5  0  1  2  4  3\n",
      "  4 19  8 20  7  0 19  7  4  0  4  4 19  2  7  4  7  3  5  6  5 10  5  4\n",
      " 20 10  0  5  7 19  2 14 16  8  7  0  9 14 11  3  6  7  3 11 14  7  3  0\n",
      "  4 19 11 19  6  6 19  3  0  6  2 19  7  4 20  6 11  4 14 20  7 20  3  8\n",
      "  3 19  0  7  0  7  6  6 20  7  7  0  7  3  8  4  6  5  5 10  7  6  5 19\n",
      "  7  1  5  3  8  4  3  6  0 19  1  0  0  5  2  3  2 19  3  3  4  1 11 20\n",
      "  1  0 20 10  2  3  1  7 20 11  3  4 10  1  7 19  4  3  6  6 19  4  3  2\n",
      "  1  1  2  2 12 21  2  7  8  0 19  6  2  7  1  0  2  2 20  2 10  7  5 20\n",
      " 20  9  1  2 15  6  3  0  8  7  8 19  7 20  8  7  2  2  2 10  6 11  5  5\n",
      "  0  0  8 11  2  4 19 13 14 20  6  3 11  7  8  9  4  1  7  2  5  5 13  9\n",
      " 19 10  2  4  6  1  5  9  1  5  2 15  4  4  7 15  7  3 19  6  4  8  7  4\n",
      "  7  1  6  3  9  3  1  2  1  9  0 10  4  8  8  2  0  0  6  8 20  4  8  6\n",
      "  7  2 10  1 19  4  6  6  8 19  2  0  4  7  7 21]\n"
     ]
    }
   ],
   "source": [
    "cat_to_num()"
   ]
  },
  {
   "cell_type": "code",
   "execution_count": 64,
   "metadata": {},
   "outputs": [
    {
     "data": {
      "text/html": [
       "<div>\n",
       "<style scoped>\n",
       "    .dataframe tbody tr th:only-of-type {\n",
       "        vertical-align: middle;\n",
       "    }\n",
       "\n",
       "    .dataframe tbody tr th {\n",
       "        vertical-align: top;\n",
       "    }\n",
       "\n",
       "    .dataframe thead th {\n",
       "        text-align: right;\n",
       "    }\n",
       "</style>\n",
       "<table border=\"1\" class=\"dataframe\">\n",
       "  <thead>\n",
       "    <tr style=\"text-align: right;\">\n",
       "      <th></th>\n",
       "      <th>num</th>\n",
       "      <th>lat</th>\n",
       "      <th>long</th>\n",
       "      <th>depth</th>\n",
       "      <th>mag</th>\n",
       "      <th>stations</th>\n",
       "    </tr>\n",
       "  </thead>\n",
       "  <tbody>\n",
       "    <tr>\n",
       "      <th>0</th>\n",
       "      <td>1</td>\n",
       "      <td>-20.42</td>\n",
       "      <td>181.62</td>\n",
       "      <td>562.0</td>\n",
       "      <td>1</td>\n",
       "      <td>41</td>\n",
       "    </tr>\n",
       "    <tr>\n",
       "      <th>1</th>\n",
       "      <td>2</td>\n",
       "      <td>-20.62</td>\n",
       "      <td>181.03</td>\n",
       "      <td>650.0</td>\n",
       "      <td>2</td>\n",
       "      <td>15</td>\n",
       "    </tr>\n",
       "    <tr>\n",
       "      <th>2</th>\n",
       "      <td>3</td>\n",
       "      <td>-26.00</td>\n",
       "      <td>184.10</td>\n",
       "      <td>42.0</td>\n",
       "      <td>9</td>\n",
       "      <td>43</td>\n",
       "    </tr>\n",
       "    <tr>\n",
       "      <th>3</th>\n",
       "      <td>4</td>\n",
       "      <td>-17.97</td>\n",
       "      <td>181.66</td>\n",
       "      <td>626.0</td>\n",
       "      <td>3</td>\n",
       "      <td>19</td>\n",
       "    </tr>\n",
       "    <tr>\n",
       "      <th>4</th>\n",
       "      <td>5</td>\n",
       "      <td>-20.42</td>\n",
       "      <td>181.96</td>\n",
       "      <td>649.0</td>\n",
       "      <td>19</td>\n",
       "      <td>11</td>\n",
       "    </tr>\n",
       "  </tbody>\n",
       "</table>\n",
       "</div>"
      ],
      "text/plain": [
       "   num    lat    long  depth  mag  stations\n",
       "0    1 -20.42  181.62  562.0    1        41\n",
       "1    2 -20.62  181.03  650.0    2        15\n",
       "2    3 -26.00  184.10   42.0    9        43\n",
       "3    4 -17.97  181.66  626.0    3        19\n",
       "4    5 -20.42  181.96  649.0   19        11"
      ]
     },
     "execution_count": 64,
     "metadata": {},
     "output_type": "execute_result"
    }
   ],
   "source": [
    "data.head()"
   ]
  },
  {
   "cell_type": "markdown",
   "metadata": {},
   "source": [
    "#### Проверим, что нет категориальных колонок с пропущенными значениями"
   ]
  },
  {
   "cell_type": "code",
   "execution_count": 65,
   "metadata": {},
   "outputs": [
    {
     "name": "stdout",
     "output_type": "stream",
     "text": [
      "Колонка - Тип данных - Количество пустых значений\n"
     ]
    }
   ],
   "source": [
    "print_nones_cat()"
   ]
  },
  {
   "cell_type": "markdown",
   "metadata": {},
   "source": [
    "## Масштабирование данных"
   ]
  },
  {
   "cell_type": "markdown",
   "metadata": {},
   "source": [
    "### MinMax"
   ]
  },
  {
   "cell_type": "code",
   "execution_count": 66,
   "metadata": {},
   "outputs": [
    {
     "name": "stdout",
     "output_type": "stream",
     "text": [
      "num\n"
     ]
    },
    {
     "data": {
      "image/png": "[encoded data removed]",
      "text/plain": [
       "<Figure size 432x288 with 1 Axes>"
      ]
     },
     "metadata": {},
     "output_type": "display_data"
    },
    {
     "name": "stdout",
     "output_type": "stream",
     "text": [
      "lat\n"
     ]
    },
    {
     "data": {
      "image/png": "[encoded data removed]",
      "text/plain": [
       "<Figure size 432x288 with 1 Axes>"
      ]
     },
     "metadata": {},
     "output_type": "display_data"
    },
    {
     "name": "stdout",
     "output_type": "stream",
     "text": [
      "long\n"
     ]
    },
    {
     "data": {
      "image/png": "[encoded data removed]",
      "text/plain": [
       "<Figure size 432x288 with 1 Axes>"
      ]
     },
     "metadata": {},
     "output_type": "display_data"
    },
    {
     "name": "stdout",
     "output_type": "stream",
     "text": [
      "depth\n"
     ]
    },
    {
     "data": {
      "image/png": "[encoded data removed]",
      "text/plain": [
       "<Figure size 432x288 with 1 Axes>"
      ]
     },
     "metadata": {},
     "output_type": "display_data"
    },
    {
     "name": "stdout",
     "output_type": "stream",
     "text": [
      "mag\n"
     ]
    },
    {
     "data": {
      "image/png": "[encoded data removed]",
      "text/plain": [
       "<Figure size 432x288 with 1 Axes>"
      ]
     },
     "metadata": {},
     "output_type": "display_data"
    },
    {
     "name": "stdout",
     "output_type": "stream",
     "text": [
      "stations\n"
     ]
    },
    {
     "data": {
      "image/png": "[encoded data removed]",
      "text/plain": [
       "<Figure size 432x288 with 1 Axes>"
      ]
     },
     "metadata": {},
     "output_type": "display_data"
    }
   ],
   "source": [
    "sc = MinMaxScaler()\n",
    "for col in data.columns:\n",
    "    sc_data = sc.fit_transform(data[[col]])\n",
    "    print(col)\n",
    "    plt.hist(sc_data, 50)\n",
    "    plt.show()"
   ]
  },
  {
   "cell_type": "markdown",
   "metadata": {},
   "source": [
    "### Z-оценка"
   ]
  },
  {
   "cell_type": "code",
   "execution_count": 67,
   "metadata": {},
   "outputs": [
    {
     "name": "stdout",
     "output_type": "stream",
     "text": [
      "num\n"
     ]
    },
    {
     "data": {
      "image/png": "[encoded data removed]",
      "text/plain": [
       "<Figure size 432x288 with 1 Axes>"
      ]
     },
     "metadata": {},
     "output_type": "display_data"
    },
    {
     "name": "stdout",
     "output_type": "stream",
     "text": [
      "lat\n"
     ]
    },
    {
     "data": {
      "image/png": "[encoded data removed]",
      "text/plain": [
       "<Figure size 432x288 with 1 Axes>"
      ]
     },
     "metadata": {},
     "output_type": "display_data"
    },
    {
     "name": "stdout",
     "output_type": "stream",
     "text": [
      "long\n"
     ]
    },
    {
     "data": {
      "image/png": "[encoded data removed]",
      "text/plain": [
       "<Figure size 432x288 with 1 Axes>"
      ]
     },
     "metadata": {},
     "output_type": "display_data"
    },
    {
     "name": "stdout",
     "output_type": "stream",
     "text": [
      "depth\n"
     ]
    },
    {
     "data": {
      "image/png": "[encoded data removed]",
      "text/plain": [
       "<Figure size 432x288 with 1 Axes>"
      ]
     },
     "metadata": {},
     "output_type": "display_data"
    },
    {
     "name": "stdout",
     "output_type": "stream",
     "text": [
      "mag\n"
     ]
    },
    {
     "data": {
      "image/png": "[encoded data removed]",
      "text/plain": [
       "<Figure size 432x288 with 1 Axes>"
      ]
     },
     "metadata": {},
     "output_type": "display_data"
    },
    {
     "name": "stdout",
     "output_type": "stream",
     "text": [
      "stations\n"
     ]
    },
    {
     "data": {
      "image/png": "[encoded data removed]",
      "text/plain": [
       "<Figure size 432x288 with 1 Axes>"
      ]
     },
     "metadata": {},
     "output_type": "display_data"
    }
   ],
   "source": [
    "sc1 = StandardScaler()\n",
    "for col in data.columns:\n",
    "    sc1_data = sc1.fit_transform(data[[col]])\n",
    "    print(col)\n",
    "    plt.hist(sc1_data, 50)\n",
    "    plt.show()"
   ]
  },
  {
   "cell_type": "markdown",
   "metadata": {},
   "source": [
    "### Нормализация"
   ]
  },
  {
   "cell_type": "code",
   "execution_count": 68,
   "metadata": {},
   "outputs": [
    {
     "name": "stdout",
     "output_type": "stream",
     "text": [
      "num\n"
     ]
    },
    {
     "data": {
      "image/png": "[encoded data removed]",
      "text/plain": [
       "<Figure size 432x288 with 1 Axes>"
      ]
     },
     "metadata": {},
     "output_type": "display_data"
    },
    {
     "name": "stdout",
     "output_type": "stream",
     "text": [
      "lat\n"
     ]
    },
    {
     "data": {
      "image/png": "[encoded data removed]",
      "text/plain": [
       "<Figure size 432x288 with 1 Axes>"
      ]
     },
     "metadata": {},
     "output_type": "display_data"
    },
    {
     "name": "stdout",
     "output_type": "stream",
     "text": [
      "long\n"
     ]
    },
    {
     "data": {
      "image/png": "[encoded data removed]",
      "text/plain": [
       "<Figure size 432x288 with 1 Axes>"
      ]
     },
     "metadata": {},
     "output_type": "display_data"
    },
    {
     "name": "stdout",
     "output_type": "stream",
     "text": [
      "depth\n"
     ]
    },
    {
     "data": {
      "image/png": "[encoded data removed]",
      "text/plain": [
       "<Figure size 432x288 with 1 Axes>"
      ]
     },
     "metadata": {},
     "output_type": "display_data"
    },
    {
     "name": "stdout",
     "output_type": "stream",
     "text": [
      "mag\n"
     ]
    },
    {
     "data": {
      "image/png": "[encoded data removed]",
      "text/plain": [
       "<Figure size 432x288 with 1 Axes>"
      ]
     },
     "metadata": {},
     "output_type": "display_data"
    },
    {
     "name": "stdout",
     "output_type": "stream",
     "text": [
      "stations\n"
     ]
    },
    {
     "data": {
      "image/png": "[encoded data removed]",
      "text/plain": [
       "<Figure size 432x288 with 1 Axes>"
      ]
     },
     "metadata": {},
     "output_type": "display_data"
    }
   ],
   "source": [
    "sc2 = Normalizer()\n",
    "for col in data.columns:\n",
    "    sc2_data = sc2.fit_transform(data[[col]])\n",
    "    print(col)\n",
    "    plt.hist(sc2_data, 50)\n",
    "    plt.show()"
   ]
  },
  {
   "cell_type": "markdown",
   "metadata": {},
   "source": [
    "### Диаграмма рассеяния"
   ]
  },
  {
   "cell_type": "code",
   "execution_count": 69,
   "metadata": {},
   "outputs": [
    {
     "data": {
      "text/plain": [
       "<matplotlib.axes._subplots.AxesSubplot at 0x12ec50f10>"
      ]
     },
     "execution_count": 69,
     "metadata": {},
     "output_type": "execute_result"
    },
    {
     "data": {
      "image/png": "[encoded data removed]",
      "text/plain": [
       "<Figure size 720x720 with 1 Axes>"
      ]
     },
     "metadata": {},
     "output_type": "display_data"
    }
   ],
   "source": [
    "fig, ax = plt.subplots(figsize=(10,10))\n",
    "sns.scatterplot(ax=ax, x='depth', y='long', data=data)"
   ]
  },
  {
   "cell_type": "markdown",
   "metadata": {},
   "source": [
    "###### По данному графику видим, что от скорости реакции футболиста напрямую зависит его общий рейтинг"
   ]
  },
  {
   "cell_type": "markdown",
   "metadata": {},
   "source": [
    "## Вывод:\n",
    "    В процессе выполнения данной работы были изучены методы обработки пропусков в данных, кодирования категориальных признаков и масштабирования данных."
   ]
  }
 ],
 "metadata": {
  "kernelspec": {
   "display_name": "Python 3",
   "language": "python",
   "name": "python3"
  },
  "language_info": {
   "codemirror_mode": {
    "name": "ipython",
    "version": 3
   },
   "file_extension": ".py",
   "mimetype": "text/x-python",
   "name": "python",
   "nbconvert_exporter": "python",
   "pygments_lexer": "ipython3",
   "version": "3.7.4"
  }
 },
 "nbformat": 4,
 "nbformat_minor": 2
}
