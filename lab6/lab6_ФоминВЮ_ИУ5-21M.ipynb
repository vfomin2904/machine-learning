{
 "cells": [
  {
   "cell_type": "markdown",
   "metadata": {},
   "source": [
    "## Задание:\n",
    "1. Выберите набор данных (датасет) для решения задачи классификации или регресии.\n",
    "2. В случае необходимости проведите удаление или заполнение пропусков и кодирование категориальных признаков.\n",
    "3. С использованием метода train_test_split разделите выборку на обучающую и тестовую.\n",
    "4. Обучите две ансамблевые модели. Оцените качество моделей с помощью одной из подходящих для задачи метрик. Сравните качество полученных моделей.\n",
    "5. Произведите для каждой модели подбор значений одного гиперпараметра. В зависимости от используемой библиотеки можно применять функцию GridSearchCV, использовать перебор параметров в цикле, или использовать другие методы.\n",
    "6. Повторите пункт 4 для найденных оптимальных значений гиперпараметров. Сравните качество полученных моделей с качеством моделей, полученных в пункте 4"
   ]
  },
  {
   "cell_type": "code",
   "execution_count": 2,
   "metadata": {},
   "outputs": [
    {
     "name": "stderr",
     "output_type": "stream",
     "text": [
      "/home/lisobol/tensorflow_env/my_tensorflow/lib/python3.7/site-packages/sklearn/externals/six.py:31: FutureWarning: The module is deprecated in version 0.21 and will be removed in version 0.23 since we've dropped support for Python 2.7. Please rely on the official version of six (https://pypi.org/project/six/).\n",
      "  \"(https://pypi.org/project/six/).\", FutureWarning)\n"
     ]
    },
    {
     "name": "stdout",
     "output_type": "stream",
     "text": [
      "Requirement already satisfied: heamy in /home/lisobol/tensorflow_env/my_tensorflow/lib/python3.7/site-packages (0.0.7)\n",
      "Requirement already satisfied: scikit-learn>=0.17.0 in /home/lisobol/tensorflow_env/my_tensorflow/lib/python3.7/site-packages (from heamy) (0.22.2.post1)\n",
      "Requirement already satisfied: six>=1.10.0 in /home/lisobol/tensorflow_env/my_tensorflow/lib/python3.7/site-packages (from heamy) (1.14.0)\n",
      "Requirement already satisfied: pandas>=0.17.0 in /home/lisobol/tensorflow_env/my_tensorflow/lib/python3.7/site-packages (from heamy) (1.0.1)\n",
      "Requirement already satisfied: scipy>=0.16.0 in /home/lisobol/tensorflow_env/my_tensorflow/lib/python3.7/site-packages (from heamy) (1.4.1)\n",
      "Requirement already satisfied: numpy>=1.7.0 in /home/lisobol/tensorflow_env/my_tensorflow/lib/python3.7/site-packages (from heamy) (1.18.1)\n",
      "Requirement already satisfied: joblib>=0.11 in /home/lisobol/tensorflow_env/my_tensorflow/lib/python3.7/site-packages (from scikit-learn>=0.17.0->heamy) (0.14.1)\n",
      "Requirement already satisfied: pytz>=2017.2 in /home/lisobol/tensorflow_env/my_tensorflow/lib/python3.7/site-packages (from pandas>=0.17.0->heamy) (2019.3)\n",
      "Requirement already satisfied: python-dateutil>=2.6.1 in /home/lisobol/tensorflow_env/my_tensorflow/lib/python3.7/site-packages (from pandas>=0.17.0->heamy) (2.8.1)\n"
     ]
    }
   ],
   "source": [
    "import numpy as np\n",
    "import pandas as pd\n",
    "from typing import Dict, Tuple\n",
    "from scipy import stats\n",
    "from IPython.display import Image\n",
    "from sklearn.externals.six import StringIO \n",
    "from IPython.display import Image\n",
    "import graphviz \n",
    "import pydotplus\n",
    "from sklearn.datasets import load_iris, load_boston\n",
    "from sklearn.linear_model import LinearRegression\n",
    "from sklearn.model_selection import cross_val_score\n",
    "from sklearn.model_selection import train_test_split\n",
    "from sklearn.neighbors import KNeighborsRegressor, KNeighborsClassifier\n",
    "from sklearn.model_selection import GridSearchCV, RandomizedSearchCV\n",
    "from sklearn.metrics import accuracy_score, balanced_accuracy_score\n",
    "from sklearn.metrics import precision_score, recall_score, f1_score, classification_report\n",
    "from sklearn.metrics import confusion_matrix\n",
    "from sklearn.tree import DecisionTreeClassifier, DecisionTreeRegressor, export_graphviz\n",
    "from sklearn.ensemble import RandomForestClassifier, RandomForestRegressor\n",
    "from sklearn.ensemble import ExtraTreesClassifier, ExtraTreesRegressor\n",
    "from sklearn.ensemble import GradientBoostingClassifier, GradientBoostingRegressor\n",
    "from sklearn.ensemble import BaggingClassifier\n",
    "from sklearn.ensemble import AdaBoostClassifier\n",
    "from sklearn.metrics import mean_absolute_error, mean_squared_error, mean_squared_log_error, median_absolute_error, r2_score \n",
    "from sklearn.metrics import roc_curve, roc_auc_score\n",
    "import seaborn as sns\n",
    "!pip install heamy\n",
    "from heamy.estimator import Regressor, Classifier\n",
    "from heamy.pipeline import ModelsPipeline\n",
    "from heamy.dataset import Dataset\n",
    "import matplotlib.pyplot as plt\n",
    "%matplotlib inline \n",
    "sns.set(style=\"ticks\")\n",
    "\n"
   ]
  },
  {
   "cell_type": "markdown",
   "metadata": {},
   "source": [
    "### 1. Выбор набора данных для решения задачи регресии."
   ]
  },
  {
   "cell_type": "code",
   "execution_count": 3,
   "metadata": {},
   "outputs": [
    {
     "data": {
      "text/html": [
       "<div>\n",
       "<style scoped>\n",
       "    .dataframe tbody tr th:only-of-type {\n",
       "        vertical-align: middle;\n",
       "    }\n",
       "\n",
       "    .dataframe tbody tr th {\n",
       "        vertical-align: top;\n",
       "    }\n",
       "\n",
       "    .dataframe thead th {\n",
       "        text-align: right;\n",
       "    }\n",
       "</style>\n",
       "<table border=\"1\" class=\"dataframe\">\n",
       "  <thead>\n",
       "    <tr style=\"text-align: right;\">\n",
       "      <th></th>\n",
       "      <th>Rank</th>\n",
       "      <th>Name</th>\n",
       "      <th>Platform</th>\n",
       "      <th>Year</th>\n",
       "      <th>Genre</th>\n",
       "      <th>Publisher</th>\n",
       "      <th>NA_Sales</th>\n",
       "      <th>EU_Sales</th>\n",
       "      <th>JP_Sales</th>\n",
       "      <th>Other_Sales</th>\n",
       "      <th>Global_Sales</th>\n",
       "    </tr>\n",
       "  </thead>\n",
       "  <tbody>\n",
       "    <tr>\n",
       "      <th>0</th>\n",
       "      <td>1</td>\n",
       "      <td>Wii Sports</td>\n",
       "      <td>Wii</td>\n",
       "      <td>2006.0</td>\n",
       "      <td>Sports</td>\n",
       "      <td>Nintendo</td>\n",
       "      <td>41.49</td>\n",
       "      <td>29.02</td>\n",
       "      <td>3.77</td>\n",
       "      <td>8.46</td>\n",
       "      <td>82.74</td>\n",
       "    </tr>\n",
       "    <tr>\n",
       "      <th>1</th>\n",
       "      <td>2</td>\n",
       "      <td>Super Mario Bros.</td>\n",
       "      <td>NES</td>\n",
       "      <td>1985.0</td>\n",
       "      <td>Platform</td>\n",
       "      <td>Nintendo</td>\n",
       "      <td>29.08</td>\n",
       "      <td>3.58</td>\n",
       "      <td>6.81</td>\n",
       "      <td>0.77</td>\n",
       "      <td>40.24</td>\n",
       "    </tr>\n",
       "    <tr>\n",
       "      <th>2</th>\n",
       "      <td>3</td>\n",
       "      <td>Mario Kart Wii</td>\n",
       "      <td>Wii</td>\n",
       "      <td>2008.0</td>\n",
       "      <td>Racing</td>\n",
       "      <td>Nintendo</td>\n",
       "      <td>15.85</td>\n",
       "      <td>12.88</td>\n",
       "      <td>3.79</td>\n",
       "      <td>3.31</td>\n",
       "      <td>35.82</td>\n",
       "    </tr>\n",
       "    <tr>\n",
       "      <th>3</th>\n",
       "      <td>4</td>\n",
       "      <td>Wii Sports Resort</td>\n",
       "      <td>Wii</td>\n",
       "      <td>2009.0</td>\n",
       "      <td>Sports</td>\n",
       "      <td>Nintendo</td>\n",
       "      <td>15.75</td>\n",
       "      <td>11.01</td>\n",
       "      <td>3.28</td>\n",
       "      <td>2.96</td>\n",
       "      <td>33.00</td>\n",
       "    </tr>\n",
       "    <tr>\n",
       "      <th>4</th>\n",
       "      <td>5</td>\n",
       "      <td>Pokemon Red/Pokemon Blue</td>\n",
       "      <td>GB</td>\n",
       "      <td>1996.0</td>\n",
       "      <td>Role-Playing</td>\n",
       "      <td>Nintendo</td>\n",
       "      <td>11.27</td>\n",
       "      <td>8.89</td>\n",
       "      <td>10.22</td>\n",
       "      <td>1.00</td>\n",
       "      <td>31.37</td>\n",
       "    </tr>\n",
       "  </tbody>\n",
       "</table>\n",
       "</div>"
      ],
      "text/plain": [
       "   Rank                      Name Platform    Year         Genre Publisher  \\\n",
       "0     1                Wii Sports      Wii  2006.0        Sports  Nintendo   \n",
       "1     2         Super Mario Bros.      NES  1985.0      Platform  Nintendo   \n",
       "2     3            Mario Kart Wii      Wii  2008.0        Racing  Nintendo   \n",
       "3     4         Wii Sports Resort      Wii  2009.0        Sports  Nintendo   \n",
       "4     5  Pokemon Red/Pokemon Blue       GB  1996.0  Role-Playing  Nintendo   \n",
       "\n",
       "   NA_Sales  EU_Sales  JP_Sales  Other_Sales  Global_Sales  \n",
       "0     41.49     29.02      3.77         8.46         82.74  \n",
       "1     29.08      3.58      6.81         0.77         40.24  \n",
       "2     15.85     12.88      3.79         3.31         35.82  \n",
       "3     15.75     11.01      3.28         2.96         33.00  \n",
       "4     11.27      8.89     10.22         1.00         31.37  "
      ]
     },
     "execution_count": 3,
     "metadata": {},
     "output_type": "execute_result"
    }
   ],
   "source": [
    "data = pd.read_csv('data/vgsales.csv', sep=',')\n",
    "data.head()"
   ]
  },
  {
   "cell_type": "code",
   "execution_count": 4,
   "metadata": {},
   "outputs": [
    {
     "data": {
      "text/plain": [
       "(16598, 11)"
      ]
     },
     "execution_count": 4,
     "metadata": {},
     "output_type": "execute_result"
    }
   ],
   "source": [
    "data.shape "
   ]
  },
  {
   "cell_type": "code",
   "execution_count": 5,
   "metadata": {},
   "outputs": [
    {
     "data": {
      "text/plain": [
       "Rank              0\n",
       "Name              0\n",
       "Platform          0\n",
       "Year            271\n",
       "Genre             0\n",
       "Publisher        58\n",
       "NA_Sales          0\n",
       "EU_Sales          0\n",
       "JP_Sales          0\n",
       "Other_Sales       0\n",
       "Global_Sales      0\n",
       "dtype: int64"
      ]
     },
     "execution_count": 5,
     "metadata": {},
     "output_type": "execute_result"
    }
   ],
   "source": [
    "data.isnull().sum() "
   ]
  },
  {
   "cell_type": "code",
   "execution_count": 6,
   "metadata": {},
   "outputs": [
    {
     "data": {
      "text/plain": [
       "Rank              int64\n",
       "Name             object\n",
       "Platform         object\n",
       "Year            float64\n",
       "Genre            object\n",
       "Publisher        object\n",
       "NA_Sales        float64\n",
       "EU_Sales        float64\n",
       "JP_Sales        float64\n",
       "Other_Sales     float64\n",
       "Global_Sales    float64\n",
       "dtype: object"
      ]
     },
     "execution_count": 6,
     "metadata": {},
     "output_type": "execute_result"
    }
   ],
   "source": [
    "data.dtypes "
   ]
  },
  {
   "cell_type": "markdown",
   "metadata": {},
   "source": [
    "### 2. Удаление и заполнение пропусков и кодирование категориальных признаков."
   ]
  },
  {
   "cell_type": "code",
   "execution_count": 7,
   "metadata": {},
   "outputs": [
    {
     "name": "stdout",
     "output_type": "stream",
     "text": [
      "Колонка Year. Тип данных float64. Количество пустых значений 271, 1.63%.\n"
     ]
    }
   ],
   "source": [
    "# Выберем числовые колонки с пропущенными значениями\n",
    "# Цикл по колонкам датасета набора 1\n",
    "num_cols = []\n",
    "total_count = data.shape[0]\n",
    "for col in data.columns:\n",
    "    # Количество пустых значений \n",
    "    temp_null_count = data[data[col].isnull()].shape[0]\n",
    "    dt = str(data[col].dtype)\n",
    "    if temp_null_count>0 and (dt=='float64' or dt=='int64'):\n",
    "        num_cols.append(col)\n",
    "        temp_perc = round((temp_null_count / total_count) * 100.0, 2)\n",
    "        print('Колонка {}. Тип данных {}. Количество пустых значений {}, {}%.'.format(col, dt, temp_null_count, temp_perc))"
   ]
  },
  {
   "cell_type": "code",
   "execution_count": 8,
   "metadata": {},
   "outputs": [
    {
     "data": {
      "text/plain": [
       "Year    2006.406443\n",
       "dtype: float64"
      ]
     },
     "execution_count": 8,
     "metadata": {},
     "output_type": "execute_result"
    }
   ],
   "source": [
    "# Фильтр по колонкам с пропущенными значениями  набора 1\n",
    "data_num = data[num_cols].mean()\n",
    "data_num"
   ]
  },
  {
   "cell_type": "code",
   "execution_count": 9,
   "metadata": {},
   "outputs": [],
   "source": [
    "data[num_cols] = data[num_cols].fillna(data[num_cols].mean())"
   ]
  },
  {
   "cell_type": "code",
   "execution_count": 10,
   "metadata": {},
   "outputs": [
    {
     "data": {
      "text/plain": [
       "Rank             0\n",
       "Name             0\n",
       "Platform         0\n",
       "Year             0\n",
       "Genre            0\n",
       "Publisher       58\n",
       "NA_Sales         0\n",
       "EU_Sales         0\n",
       "JP_Sales         0\n",
       "Other_Sales      0\n",
       "Global_Sales     0\n",
       "dtype: int64"
      ]
     },
     "execution_count": 10,
     "metadata": {},
     "output_type": "execute_result"
    }
   ],
   "source": [
    "data.isnull().sum() "
   ]
  },
  {
   "cell_type": "code",
   "execution_count": 11,
   "metadata": {},
   "outputs": [
    {
     "data": {
      "text/plain": [
       "Rank            0\n",
       "Name            0\n",
       "Platform        0\n",
       "Year            0\n",
       "Genre           0\n",
       "Publisher       0\n",
       "NA_Sales        0\n",
       "EU_Sales        0\n",
       "JP_Sales        0\n",
       "Other_Sales     0\n",
       "Global_Sales    0\n",
       "dtype: int64"
      ]
     },
     "execution_count": 11,
     "metadata": {},
     "output_type": "execute_result"
    }
   ],
   "source": [
    "data = data.fillna('')\n",
    "data.isnull().sum() "
   ]
  },
  {
   "cell_type": "code",
   "execution_count": 12,
   "metadata": {},
   "outputs": [
    {
     "data": {
      "text/plain": [
       "Rank              int64\n",
       "Name             object\n",
       "Platform         object\n",
       "Year            float64\n",
       "Genre            object\n",
       "Publisher        object\n",
       "NA_Sales        float64\n",
       "EU_Sales        float64\n",
       "JP_Sales        float64\n",
       "Other_Sales     float64\n",
       "Global_Sales    float64\n",
       "dtype: object"
      ]
     },
     "execution_count": 12,
     "metadata": {},
     "output_type": "execute_result"
    }
   ],
   "source": [
    "data.dtypes \n"
   ]
  },
  {
   "cell_type": "markdown",
   "metadata": {},
   "source": [
    "#### Кодирование категориальных признаков числовыми"
   ]
  },
  {
   "cell_type": "code",
   "execution_count": 13,
   "metadata": {},
   "outputs": [
    {
     "data": {
      "text/plain": [
       "Rank              int64\n",
       "Name              int64\n",
       "Platform          int64\n",
       "Year            float64\n",
       "Genre             int64\n",
       "Publisher         int64\n",
       "NA_Sales        float64\n",
       "EU_Sales        float64\n",
       "JP_Sales        float64\n",
       "Other_Sales     float64\n",
       "Global_Sales    float64\n",
       "dtype: object"
      ]
     },
     "execution_count": 13,
     "metadata": {},
     "output_type": "execute_result"
    }
   ],
   "source": [
    "from sklearn.preprocessing import LabelEncoder\n",
    "le = LabelEncoder()\n",
    "data['Name'] = le.fit_transform(data['Name'])\n",
    "data['Platform'] = le.fit_transform(data['Platform'])\n",
    "data['Genre'] = le.fit_transform(data['Genre'])\n",
    "data['Publisher'] = le.fit_transform(data['Publisher'])\n",
    "data.dtypes"
   ]
  },
  {
   "cell_type": "code",
   "execution_count": 14,
   "metadata": {},
   "outputs": [
    {
     "data": {
      "text/html": [
       "<div>\n",
       "<style scoped>\n",
       "    .dataframe tbody tr th:only-of-type {\n",
       "        vertical-align: middle;\n",
       "    }\n",
       "\n",
       "    .dataframe tbody tr th {\n",
       "        vertical-align: top;\n",
       "    }\n",
       "\n",
       "    .dataframe thead th {\n",
       "        text-align: right;\n",
       "    }\n",
       "</style>\n",
       "<table border=\"1\" class=\"dataframe\">\n",
       "  <thead>\n",
       "    <tr style=\"text-align: right;\">\n",
       "      <th></th>\n",
       "      <th>Rank</th>\n",
       "      <th>Name</th>\n",
       "      <th>Platform</th>\n",
       "      <th>Year</th>\n",
       "      <th>Genre</th>\n",
       "      <th>Publisher</th>\n",
       "      <th>NA_Sales</th>\n",
       "      <th>EU_Sales</th>\n",
       "      <th>JP_Sales</th>\n",
       "      <th>Other_Sales</th>\n",
       "      <th>Global_Sales</th>\n",
       "    </tr>\n",
       "  </thead>\n",
       "  <tbody>\n",
       "    <tr>\n",
       "      <th>0</th>\n",
       "      <td>1</td>\n",
       "      <td>11007</td>\n",
       "      <td>26</td>\n",
       "      <td>2006.0</td>\n",
       "      <td>10</td>\n",
       "      <td>360</td>\n",
       "      <td>41.49</td>\n",
       "      <td>29.02</td>\n",
       "      <td>3.77</td>\n",
       "      <td>8.46</td>\n",
       "      <td>82.74</td>\n",
       "    </tr>\n",
       "    <tr>\n",
       "      <th>1</th>\n",
       "      <td>2</td>\n",
       "      <td>9327</td>\n",
       "      <td>11</td>\n",
       "      <td>1985.0</td>\n",
       "      <td>4</td>\n",
       "      <td>360</td>\n",
       "      <td>29.08</td>\n",
       "      <td>3.58</td>\n",
       "      <td>6.81</td>\n",
       "      <td>0.77</td>\n",
       "      <td>40.24</td>\n",
       "    </tr>\n",
       "    <tr>\n",
       "      <th>2</th>\n",
       "      <td>3</td>\n",
       "      <td>5573</td>\n",
       "      <td>26</td>\n",
       "      <td>2008.0</td>\n",
       "      <td>6</td>\n",
       "      <td>360</td>\n",
       "      <td>15.85</td>\n",
       "      <td>12.88</td>\n",
       "      <td>3.79</td>\n",
       "      <td>3.31</td>\n",
       "      <td>35.82</td>\n",
       "    </tr>\n",
       "    <tr>\n",
       "      <th>3</th>\n",
       "      <td>4</td>\n",
       "      <td>11009</td>\n",
       "      <td>26</td>\n",
       "      <td>2009.0</td>\n",
       "      <td>10</td>\n",
       "      <td>360</td>\n",
       "      <td>15.75</td>\n",
       "      <td>11.01</td>\n",
       "      <td>3.28</td>\n",
       "      <td>2.96</td>\n",
       "      <td>33.00</td>\n",
       "    </tr>\n",
       "    <tr>\n",
       "      <th>4</th>\n",
       "      <td>5</td>\n",
       "      <td>7346</td>\n",
       "      <td>5</td>\n",
       "      <td>1996.0</td>\n",
       "      <td>7</td>\n",
       "      <td>360</td>\n",
       "      <td>11.27</td>\n",
       "      <td>8.89</td>\n",
       "      <td>10.22</td>\n",
       "      <td>1.00</td>\n",
       "      <td>31.37</td>\n",
       "    </tr>\n",
       "  </tbody>\n",
       "</table>\n",
       "</div>"
      ],
      "text/plain": [
       "   Rank   Name  Platform    Year  Genre  Publisher  NA_Sales  EU_Sales  \\\n",
       "0     1  11007        26  2006.0     10        360     41.49     29.02   \n",
       "1     2   9327        11  1985.0      4        360     29.08      3.58   \n",
       "2     3   5573        26  2008.0      6        360     15.85     12.88   \n",
       "3     4  11009        26  2009.0     10        360     15.75     11.01   \n",
       "4     5   7346         5  1996.0      7        360     11.27      8.89   \n",
       "\n",
       "   JP_Sales  Other_Sales  Global_Sales  \n",
       "0      3.77         8.46         82.74  \n",
       "1      6.81         0.77         40.24  \n",
       "2      3.79         3.31         35.82  \n",
       "3      3.28         2.96         33.00  \n",
       "4     10.22         1.00         31.37  "
      ]
     },
     "execution_count": 14,
     "metadata": {},
     "output_type": "execute_result"
    }
   ],
   "source": [
    "data.head()"
   ]
  },
  {
   "cell_type": "code",
   "execution_count": 17,
   "metadata": {},
   "outputs": [],
   "source": [
    "# # # Масштабирование данных в диапазоне от 0 до 1\n",
    "# sc1 = MinMaxScaler()\n",
    "# sc1_data = sc1.fit_transform(data)\n",
    "# X_train_1, X_test_1, y_train_1, y_test_1 = train_test_split(\n",
    "#     sc1_data, data['Global_Sales'], test_size=0.26, random_state=1)\n",
    "\n",
    "# X_train_1.shape, X_test_1.shape"
   ]
  },
  {
   "cell_type": "code",
   "execution_count": 18,
   "metadata": {},
   "outputs": [],
   "source": [
    "columns = ['Platform', 'Name', 'Year', 'Genre', 'NA_Sales',\n",
    "       'EU_Sales', 'JP_Sales', 'Other_Sales', 'Global_Sales']\n"
   ]
  },
  {
   "cell_type": "code",
   "execution_count": 19,
   "metadata": {},
   "outputs": [],
   "source": [
    "x_array = data[columns].values\n",
    "y_array = data['Rank'].values "
   ]
  },
  {
   "cell_type": "markdown",
   "metadata": {},
   "source": [
    "### 3. Разделение с использованием метода train_test_split  выборки на обучающую и тестовую.\n"
   ]
  },
  {
   "cell_type": "code",
   "execution_count": 20,
   "metadata": {},
   "outputs": [
    {
     "data": {
      "text/plain": [
       "((12282, 9), (4316, 9), (12282,), (4316,))"
      ]
     },
     "execution_count": 20,
     "metadata": {},
     "output_type": "execute_result"
    }
   ],
   "source": [
    "X_train, X_test, y_train, y_test = train_test_split(x_array, y_array,\n",
    "test_size=0.26, random_state=1)\n",
    "X_train.shape, X_test.shape, y_train.shape, y_test.shape"
   ]
  },
  {
   "cell_type": "markdown",
   "metadata": {},
   "source": [
    "### 4. Обучение двух ансамблевых моделей. Оценка качества моделей с помощью одной из подходящих для задачи метрик. Сравнение качества полученных моделей.\n",
    "#### 4.1. Стекинг "
   ]
  },
  {
   "cell_type": "code",
   "execution_count": 21,
   "metadata": {},
   "outputs": [],
   "source": [
    "# Качество отдельных моделей\n",
    "def val_mae(model):\n",
    "    model.fit(X_train, y_train)\n",
    "    y_pred = model.predict(X_test)\n",
    "    result = mean_absolute_error(y_test, y_pred)\n",
    "    print(model)\n",
    "    print('MAE={}'.format(result))"
   ]
  },
  {
   "cell_type": "code",
   "execution_count": 22,
   "metadata": {},
   "outputs": [
    {
     "name": "stdout",
     "output_type": "stream",
     "text": [
      "LinearRegression(copy_X=True, fit_intercept=True, n_jobs=None, normalize=False)\n",
      "MAE=3590.6105058314756\n",
      "==========================\n",
      "\n",
      "DecisionTreeRegressor(ccp_alpha=0.0, criterion='mse', max_depth=None,\n",
      "                      max_features=None, max_leaf_nodes=None,\n",
      "                      min_impurity_decrease=0.0, min_impurity_split=None,\n",
      "                      min_samples_leaf=1, min_samples_split=2,\n",
      "                      min_weight_fraction_leaf=0.0, presort='deprecated',\n",
      "                      random_state=None, splitter='best')\n",
      "MAE=100.15685820203892\n",
      "==========================\n",
      "\n",
      "RandomForestRegressor(bootstrap=True, ccp_alpha=0.0, criterion='mse',\n",
      "                      max_depth=None, max_features='auto', max_leaf_nodes=None,\n",
      "                      max_samples=None, min_impurity_decrease=0.0,\n",
      "                      min_impurity_split=None, min_samples_leaf=1,\n",
      "                      min_samples_split=2, min_weight_fraction_leaf=0.0,\n",
      "                      n_estimators=50, n_jobs=None, oob_score=False,\n",
      "                      random_state=None, verbose=0, warm_start=False)\n",
      "MAE=80.57904772937906\n",
      "==========================\n",
      "\n"
     ]
    }
   ],
   "source": [
    "# Точность на отдельных моделях\n",
    "for model in [\n",
    "    LinearRegression(),\n",
    "    DecisionTreeRegressor(),\n",
    "    RandomForestRegressor(n_estimators=50)\n",
    "]:\n",
    "    val_mae(model)\n",
    "    print('==========================')\n",
    "    print()"
   ]
  },
  {
   "cell_type": "code",
   "execution_count": 23,
   "metadata": {},
   "outputs": [],
   "source": [
    "# набор данных\n",
    "dataset = Dataset(X_train, y_train, X_test)\n",
    "\n",
    "# модели первого уровня\n",
    "model_tree = Regressor(dataset=dataset, estimator=DecisionTreeRegressor, name='tree')\n",
    "model_lr = Regressor(dataset=dataset, estimator=LinearRegression, parameters={'normalize': True},name='lr')\n",
    "model_rf = Regressor(dataset=dataset, estimator=RandomForestRegressor, parameters={'n_estimators': 50},name='rf')\n"
   ]
  },
  {
   "cell_type": "code",
   "execution_count": 24,
   "metadata": {},
   "outputs": [
    {
     "name": "stdout",
     "output_type": "stream",
     "text": [
      "Metric: mean_absolute_error\n",
      "Folds accuracy: [101.05504753807202, 98.68054521451998, 93.1887663479923, 102.46379170308225, 95.66529052863154, 99.32336541685724, 111.63309812884769, 101.54275570943696, 103.21560469209982, 101.55689083889365]\n",
      "Mean accuracy: 100.83251561184333\n",
      "Standard Deviation: 4.670193439805995\n",
      "Variance: 21.81070676520696\n"
     ]
    }
   ],
   "source": [
    "# Эксперимент 1.1\n",
    "# Первый уровень - две модели: дерево и линейная регрессия\n",
    "# Второй уровень: линейная регрессия\n",
    "\n",
    "pipeline = ModelsPipeline(model_tree, model_lr)\n",
    "stack_ds = pipeline.stack(k=10, seed=1)\n",
    "# модель второго уровня\n",
    "stacker = Regressor(dataset=stack_ds, estimator=LinearRegression)\n",
    "results = stacker.validate(k=10,scorer=mean_absolute_error)\n"
   ]
  },
  {
   "cell_type": "code",
   "execution_count": 25,
   "metadata": {},
   "outputs": [
    {
     "name": "stdout",
     "output_type": "stream",
     "text": [
      "Metric: mean_absolute_error\n",
      "Folds accuracy: [87.6426932465419, 81.69672904800653, 81.91263029315961, 88.48411237785018, 85.58969869706837, 85.8906107491857, 94.31790716612376, 84.81938110749184, 87.3342589576547, 85.8931026058632]\n",
      "Mean accuracy: 86.35811242489459\n",
      "Standard Deviation: 3.396541919452603\n",
      "Variance: 11.536497010598772\n"
     ]
    }
   ],
   "source": [
    "# Эксперимент 1.2\n",
    "# Первый уровень - две модели: дерево и линейная регрессия\n",
    "# Второй уровень: случайный лес\n",
    "\n",
    "stacker = Regressor(dataset=stack_ds, estimator=RandomForestRegressor)\n",
    "results = stacker.validate(k=10,scorer=mean_absolute_error)\n"
   ]
  },
  {
   "cell_type": "code",
   "execution_count": 26,
   "metadata": {},
   "outputs": [
    {
     "name": "stdout",
     "output_type": "stream",
     "text": [
      "Metric: mean_absolute_error\n",
      "Folds accuracy: [107.14890154597234, 101.77542717656631, 103.0456026058632, 110.8013029315961, 107.71335504885994, 111.40390879478828, 117.74837133550488, 108.68241042345277, 110.51221498371335, 105.79315960912052]\n",
      "Mean accuracy: 108.46246544554376\n",
      "Standard Deviation: 4.336713512678101\n",
      "Variance: 18.807084091044835\n"
     ]
    }
   ],
   "source": [
    "# Эксперимент 1.3\n",
    "# Первый уровень - две модели: дерево и линейная регрессия\n",
    "# Второй уровень: дерево\n",
    "\n",
    "stacker = Regressor(dataset=stack_ds, estimator=DecisionTreeRegressor)\n",
    "results = stacker.validate(k=10,scorer=mean_absolute_error)"
   ]
  },
  {
   "cell_type": "code",
   "execution_count": 27,
   "metadata": {},
   "outputs": [
    {
     "name": "stdout",
     "output_type": "stream",
     "text": [
      "Metric: mean_absolute_error\n",
      "Folds accuracy: [83.0022864466405, 76.7675123177237, 76.52583751372313, 81.3568944730721, 77.25352865690145, 75.62140435834345, 85.58333023773896, 79.79816510376472, 79.93518440199674, 81.48086791062704]\n",
      "Mean accuracy: 79.73250114205317\n",
      "Standard Deviation: 3.0460597672547554\n",
      "Variance: 9.278480105688095\n"
     ]
    }
   ],
   "source": [
    "# Эксперимент 2.1\n",
    "# Первый уровень - две модели: дерево и случайный лес\n",
    "# Второй уровень: линейная регрессия \n",
    "pipeline = ModelsPipeline(model_tree, model_rf)\n",
    "stack_ds = pipeline.stack(k=10, seed=1)\n",
    "# модель второго уровня\n",
    "stacker = Regressor(dataset=stack_ds, estimator=LinearRegression)\n",
    "results = stacker.validate(k=10,scorer=mean_absolute_error)"
   ]
  },
  {
   "cell_type": "code",
   "execution_count": 28,
   "metadata": {},
   "outputs": [
    {
     "name": "stdout",
     "output_type": "stream",
     "text": [
      "Metric: mean_absolute_error\n",
      "Folds accuracy: [85.92564895966525, 80.87215215622456, 84.50739033659065, 86.36403528773073, 83.96345063595473, 83.48672960291609, 89.7915006786102, 84.55184039087948, 83.88554440049637, 84.70701954397394]\n",
      "Mean accuracy: 84.80553119930421\n",
      "Standard Deviation: 2.178821372167754\n",
      "Variance: 4.747262571814974\n"
     ]
    }
   ],
   "source": [
    "\n",
    "# Эксперимент 2.2\n",
    "# Первый уровень - две модели: дерево и случайный лес\n",
    "# Второй уровень: случайный лес\n",
    "\n",
    "stacker = Regressor(dataset=stack_ds, estimator=RandomForestRegressor)\n",
    "results = stacker.validate(k=10,scorer=mean_absolute_error)"
   ]
  },
  {
   "cell_type": "code",
   "execution_count": 29,
   "metadata": {},
   "outputs": [
    {
     "name": "stdout",
     "output_type": "stream",
     "text": [
      "Metric: mean_absolute_error\n",
      "Folds accuracy: [107.13181448331977, 105.25223759153783, 107.13599348534201, 103.8086319218241, 104.60342019543974, 104.4584690553746, 110.20195439739413, 101.99837133550488, 106.76547231270358, 105.50977198697069]\n",
      "Mean accuracy: 105.68661367654113\n",
      "Standard Deviation: 2.139464767551578\n",
      "Variance: 4.577309491594527\n"
     ]
    }
   ],
   "source": [
    "# Эксперимент 2.3\n",
    "# Первый уровень - две модели: дерево и случайный лес\n",
    "# Второй уровень: дерево\n",
    "\n",
    "stacker = Regressor(dataset=stack_ds, estimator=DecisionTreeRegressor)\n",
    "results = stacker.validate(k=10,scorer=mean_absolute_error)"
   ]
  },
  {
   "cell_type": "code",
   "execution_count": 30,
   "metadata": {},
   "outputs": [
    {
     "name": "stdout",
     "output_type": "stream",
     "text": [
      "Metric: mean_absolute_error\n",
      "Folds accuracy: [83.05833714764005, 76.91059773107504, 76.45827357045583, 81.20574852665894, 76.98074637046285, 75.72574074135834, 85.97681235234108, 80.00097973450144, 80.0461110392515, 81.42068229739571]\n",
      "Mean accuracy: 79.77840295111409\n",
      "Standard Deviation: 3.1230173156901393\n",
      "Variance: 9.753237154100443\n"
     ]
    }
   ],
   "source": [
    "# Эксперимент 3.1\n",
    "# Первый уровень - две модели: линейная регрессия и случайный лес\n",
    "# Второй уровень: линейная регрессия\n",
    "pipeline = ModelsPipeline(model_lr, model_rf)\n",
    "stack_ds = pipeline.stack(k=10, seed=1)\n",
    "# модель второго уровня\n",
    "stacker = Regressor(dataset=stack_ds, estimator=LinearRegression)\n",
    "results = stacker.validate(k=10,scorer=mean_absolute_error)"
   ]
  },
  {
   "cell_type": "code",
   "execution_count": 31,
   "metadata": {},
   "outputs": [
    {
     "name": "stdout",
     "output_type": "stream",
     "text": [
      "Metric: mean_absolute_error\n",
      "Folds accuracy: [86.46650935720096, 78.63644426362897, 78.79664495114008, 86.08108306188926, 83.66583061889249, 80.70199511400651, 89.07232084690554, 83.42728827361563, 85.71984527687296, 84.21021172638436]\n",
      "Mean accuracy: 83.67781734905368\n",
      "Standard Deviation: 3.244475181915836\n",
      "Variance: 10.526619206067798\n"
     ]
    }
   ],
   "source": [
    "# Эксперимент 3.2\n",
    "# Первый уровень - две модели:  линейная регрессия и случайный лес\n",
    "# Второй уровень: случайный лес\n",
    "\n",
    "stacker = Regressor(dataset=stack_ds, estimator=RandomForestRegressor)\n",
    "results = stacker.validate(k=10,scorer=mean_absolute_error)"
   ]
  },
  {
   "cell_type": "code",
   "execution_count": 32,
   "metadata": {},
   "outputs": [
    {
     "name": "stdout",
     "output_type": "stream",
     "text": [
      "Metric: mean_absolute_error\n",
      "Folds accuracy: [111.66476810414972, 101.45077298616762, 101.5586319218241, 114.38680781758957, 105.69381107491857, 100.71661237785017, 111.40390879478828, 105.12052117263843, 107.70928338762215, 103.71254071661238]\n",
      "Mean accuracy: 106.3417658354161\n",
      "Standard Deviation: 4.558717915992085\n",
      "Variance: 20.78190903758722\n"
     ]
    }
   ],
   "source": [
    "# Эксперимент 3.3\n",
    "# Первый уровень - две модели: линейная регрессия и случайный лес\n",
    "# Второй уровень: дерево\n",
    "\n",
    "stacker = Regressor(dataset=stack_ds, estimator=DecisionTreeRegressor)\n",
    "results = stacker.validate(k=10,scorer=mean_absolute_error)"
   ]
  },
  {
   "cell_type": "code",
   "execution_count": 33,
   "metadata": {},
   "outputs": [
    {
     "name": "stdout",
     "output_type": "stream",
     "text": [
      "Metric: mean_absolute_error\n",
      "Folds accuracy: [83.23089002236054, 76.79583934161822, 76.80909023867751, 81.36725394695083, 77.34639456636724, 75.71020843187246, 85.71494858932246, 79.8257966603079, 80.06647360443235, 81.58660594924592]\n",
      "Mean accuracy: 79.84535013511554\n",
      "Standard Deviation: 3.0524428474647856\n",
      "Variance: 9.31740733703893\n"
     ]
    }
   ],
   "source": [
    "# Эксперимент 4\n",
    "# Первый уровень - три модели: дерево, линейная регрессия и случайный лес\n",
    "# Второй уровень: линейная регрессия\n",
    "pipeline = ModelsPipeline(model_tree, model_lr, model_rf)\n",
    "stack_ds3 = pipeline.stack(k=10, seed=1)\n",
    "# модель второго уровня\n",
    "stacker = Regressor(dataset=stack_ds3, estimator=LinearRegression)\n",
    "results = stacker.validate(k=10,scorer=mean_absolute_error)"
   ]
  },
  {
   "cell_type": "code",
   "execution_count": 34,
   "metadata": {},
   "outputs": [
    {
     "name": "stdout",
     "output_type": "stream",
     "text": [
      "Metric: mean_absolute_error\n",
      "Folds accuracy: [84.5293327908869, 78.46600488201788, 78.34673452768729, 83.81155537459284, 81.58912866449512, 80.83397394136806, 88.85859934853421, 82.0663680781759, 82.1598697068404, 81.7132328990228]\n",
      "Mean accuracy: 82.23748002136213\n",
      "Standard Deviation: 2.891915890971849\n",
      "Variance: 8.363177520455505\n"
     ]
    }
   ],
   "source": [
    "# Эксперимент 5\n",
    "# Первый уровень - три модели: дерево, линейная регрессия и случайный лес\n",
    "# Второй уровень: дерево\n",
    "stacker = Regressor(dataset=stack_ds3, estimator=RandomForestRegressor)\n",
    "results = stacker.validate(k=10,scorer=mean_absolute_error)"
   ]
  },
  {
   "cell_type": "code",
   "execution_count": 35,
   "metadata": {},
   "outputs": [
    {
     "name": "stdout",
     "output_type": "stream",
     "text": [
      "Metric: mean_absolute_error\n",
      "Folds accuracy: [106.40683482506103, 103.02196908055329, 101.72394136807817, 109.36482084690553, 103.3485342019544, 105.22231270358306, 110.25895765472313, 104.52524429967427, 104.35830618892508, 106.435667752443]\n",
      "Mean accuracy: 105.4666588921901\n",
      "Standard Deviation: 2.5812789497473854\n",
      "Variance: 6.663001016408964\n"
     ]
    }
   ],
   "source": [
    "# Эксперимент 6\n",
    "# Первый уровень - три модели: дерево, линейная регрессия и случайный лес\n",
    "# Второй уровень: случайный лес\n",
    "stacker = Regressor(dataset=stack_ds3, estimator=DecisionTreeRegressor)\n",
    "results = stacker.validate(k=10,scorer=mean_absolute_error)"
   ]
  },
  {
   "cell_type": "markdown",
   "metadata": {},
   "source": [
    "Поскольку у линейной регрессии слишком большая ошибка - 3590.6105058314756, уберем ее с графика"
   ]
  },
  {
   "cell_type": "code",
   "execution_count": 37,
   "metadata": {},
   "outputs": [],
   "source": [
    "# Результаты\n",
    "array_labels = ['TREE', 'RF', \n",
    "                'TREE+LR=>LR',  'TREE+LR=>RF','TREE+LR=>TREE',\n",
    "                 'TREE+RF=>LR', 'TREE+RF=>RF','TREE+RF=>TREE',\n",
    "                'LR+RF=>LR', 'LR+RF=>RF','LR+RF=>TREE',\n",
    "               \n",
    "                'TREE+LR+RF=>LR', 'TREE+LR+RF=>RF', 'TREE+LR+RF=>TREE']\n",
    "array_mae = [100.39202965708989, 80.2804124189064,\n",
    "             \n",
    "             100.83251561184333,  86.35811242489459, 108.46246544554376,\n",
    "            79.73250114205317, 84.80553119930421, 105.68661367654113,\n",
    "            79.77840295111409, 83.67781734905368, 106.3417658354161,\n",
    "            \n",
    "             79.84535013511554, 82.23748002136213, 105.4666588921901\n",
    "            ]"
   ]
  },
  {
   "cell_type": "code",
   "execution_count": 38,
   "metadata": {},
   "outputs": [],
   "source": [
    "def vis_models_quality(array_metric, array_labels, str_header, figsize=(5, 5)):\n",
    "    fig, ax1 = plt.subplots(figsize=figsize)\n",
    "    pos = np.arange(len(array_metric))\n",
    "    rects = ax1.barh(pos, array_metric,\n",
    "                     align='center',\n",
    "                     height=0.5, \n",
    "                     tick_label=array_labels)\n",
    "    ax1.set_title(str_header)\n",
    "    for a,b in zip(pos, array_metric):\n",
    "        plt.text(0.2, a-0.1, str(round(b,3)), color='white')\n",
    "    plt.show()"
   ]
  },
  {
   "cell_type": "code",
   "execution_count": 39,
   "metadata": {},
   "outputs": [
    {
     "data": {
      "image/png": "[encoded data removed]",
      "text/plain": [
       "<Figure size 360x360 with 1 Axes>"
      ]
     },
     "metadata": {},
     "output_type": "display_data"
    }
   ],
   "source": [
    "# Визуализация результатов\n",
    "vis_models_quality(array_mae, array_labels, 'MAE для моделей стекинга')\n"
   ]
  },
  {
   "cell_type": "markdown",
   "metadata": {},
   "source": [
    "Выведем лучшие модели"
   ]
  },
  {
   "cell_type": "code",
   "execution_count": 40,
   "metadata": {},
   "outputs": [
    {
     "data": {
      "image/png": "[encoded data removed]",
      "text/plain": [
       "<Figure size 360x360 with 1 Axes>"
      ]
     },
     "metadata": {},
     "output_type": "display_data"
    }
   ],
   "source": [
    "# Результаты\n",
    "array_labels = [ 'RF', \n",
    "                'TREE+RF=>LR', \n",
    "                'LR+RF=>LR', \n",
    "                'TREE+LR+RF=>LR' ]\n",
    "array_mae = [ 80.2804124189064,\n",
    "          \n",
    "            79.73250114205317, \n",
    "            79.77840295111409, \n",
    "            \n",
    "             79.84535013511554]\n",
    "\n",
    "# Визуализация результатов\n",
    "vis_models_quality(array_mae, array_labels, 'MAE для моделей стекинга')\n"
   ]
  },
  {
   "cell_type": "markdown",
   "metadata": {},
   "source": [
    "Видим, что лучшие результаты стекинга сравнимы с наиболее сильной моделью 1 уровня (случайным лесом) и самые сильные модели получились, если на втором уровне использовалась линейная регрессия, а на первом одна из моделей - случайный лес."
   ]
  },
  {
   "cell_type": "markdown",
   "metadata": {},
   "source": [
    "#### 4.2. Метод группового учета аргументов"
   ]
  },
  {
   "cell_type": "code",
   "execution_count": 41,
   "metadata": {},
   "outputs": [],
   "source": [
    "# !pip install gmdhpy\n",
    "from gmdhpy import gmdh"
   ]
  },
  {
   "cell_type": "code",
   "execution_count": null,
   "metadata": {},
   "outputs": [],
   "source": [
    "model = gmdh.MultilayerGMDH()\n",
    "model.fit(X_train, y_train)\n",
    "y_pred = model.predict(X_test)\n",
    "result = mean_absolute_error(y_test, y_pred)\n",
    "# print(model)\n",
    "print('MAE={}'.format(result))"
   ]
  },
  {
   "cell_type": "code",
   "execution_count": null,
   "metadata": {},
   "outputs": [],
   "source": [
    "model = gmdh.MultilayerGMDH(ref_functions=('linear_cov', 'quadratic', 'cubic', 'linear'))\n",
    "model.fit(X_train, y_train)\n",
    "y_pred = model.predict(X_test)\n",
    "result = mean_absolute_error(y_test, y_pred)\n",
    "# print(model)\n",
    "print('MAE={}'.format(result))"
   ]
  },
  {
   "cell_type": "markdown",
   "metadata": {},
   "source": [
    "Видим, что для данной задачи этот метод выдает слишком большую ошибку? необходима настройка параметров."
   ]
  },
  {
   "cell_type": "markdown",
   "metadata": {},
   "source": [
    "### 5. Подбор значений одного гиперпараметра для моделей. \n",
    "#### 5.1. Стекинг "
   ]
  },
  {
   "cell_type": "code",
   "execution_count": 329,
   "metadata": {},
   "outputs": [],
   "source": [
    "# # Возьмем лучшую модель: 'TREE+RF=>LR'\n",
    "\n",
    "# # Эксперимент 2.1\n",
    "# # Первый уровень - две модели: дерево и случайный лес\n",
    "# # Второй уровень: линейная регрессия \n",
    "# pipeline = ModelsPipeline(model_tree, model_rf)\n",
    "# stack_ds = pipeline.stack(k=10, seed=1)\n",
    "# # модель второго уровня\n",
    "# stacker = Regressor(dataset=stack_ds, estimator=LinearRegression)\n",
    "# results = stacker.validate(k=10,scorer=mean_absolute_error)"
   ]
  },
  {
   "cell_type": "code",
   "execution_count": 464,
   "metadata": {},
   "outputs": [
    {
     "data": {
      "text/plain": [
       "{'ccp_alpha': 0.0,\n",
       " 'criterion': 'mse',\n",
       " 'max_depth': None,\n",
       " 'max_features': None,\n",
       " 'max_leaf_nodes': None,\n",
       " 'min_impurity_decrease': 0.0,\n",
       " 'min_impurity_split': None,\n",
       " 'min_samples_leaf': 1,\n",
       " 'min_samples_split': 2,\n",
       " 'min_weight_fraction_leaf': 0.0,\n",
       " 'presort': 'deprecated',\n",
       " 'random_state': None,\n",
       " 'splitter': 'best'}"
      ]
     },
     "execution_count": 464,
     "metadata": {},
     "output_type": "execute_result"
    }
   ],
   "source": [
    "DecisionTreeRegressor().get_params()"
   ]
  },
  {
   "cell_type": "code",
   "execution_count": 495,
   "metadata": {},
   "outputs": [],
   "source": [
    "params = {\n",
    "'min_impurity_split': [ 0, 0.5,1,1.5,2, 3]\n",
    "}"
   ]
  },
  {
   "cell_type": "code",
   "execution_count": 496,
   "metadata": {},
   "outputs": [
    {
     "name": "stdout",
     "output_type": "stream",
     "text": [
      "CPU times: user 216 ms, sys: 10.5 ms, total: 227 ms\n",
      "Wall time: 897 ms\n"
     ]
    },
    {
     "name": "stderr",
     "output_type": "stream",
     "text": [
      "/home/lisobol/tensorflow_env/my_tensorflow/lib/python3.7/site-packages/sklearn/tree/_classes.py:301: FutureWarning: The min_impurity_split parameter is deprecated. Its default value will change from 1e-7 to 0 in version 0.23, and it will be removed in 0.25. Use the min_impurity_decrease parameter instead.\n",
      "  FutureWarning)\n"
     ]
    },
    {
     "data": {
      "text/plain": [
       "dict_keys(['ccp_alpha', 'criterion', 'max_depth', 'max_features', 'max_leaf_nodes', 'min_impurity_decrease', 'min_impurity_split', 'min_samples_leaf', 'min_samples_split', 'min_weight_fraction_leaf', 'presort', 'random_state', 'splitter'])"
      ]
     },
     "execution_count": 496,
     "metadata": {},
     "output_type": "execute_result"
    }
   ],
   "source": [
    "%%time\n",
    "grid_1 = GridSearchCV(estimator=DecisionTreeRegressor(),\n",
    "                    param_grid=params, scoring='neg_mean_absolute_error', cv=3, n_jobs=-1)\n",
    "grid_1.fit(data, y_array)\n",
    "grid_1.estimator.get_params().keys()\n"
   ]
  },
  {
   "cell_type": "code",
   "execution_count": 497,
   "metadata": {},
   "outputs": [
    {
     "data": {
      "text/plain": [
       "{'min_impurity_split': 1.5}"
      ]
     },
     "execution_count": 497,
     "metadata": {},
     "output_type": "execute_result"
    }
   ],
   "source": [
    "grid_1.best_params_"
   ]
  },
  {
   "cell_type": "code",
   "execution_count": 498,
   "metadata": {},
   "outputs": [
    {
     "data": {
      "image/png": "[encoded data removed]",
      "text/plain": [
       "<Figure size 432x288 with 1 Axes>"
      ]
     },
     "metadata": {},
     "output_type": "display_data"
    }
   ],
   "source": [
    "plt.plot(params['min_impurity_split'], grid_1.cv_results_[\"mean_test_score\"]);"
   ]
  },
  {
   "cell_type": "markdown",
   "metadata": {},
   "source": [
    "#### 5.2 Метод  группового учета аргументов"
   ]
  },
  {
   "cell_type": "code",
   "execution_count": 52,
   "metadata": {},
   "outputs": [
    {
     "name": "stdout",
     "output_type": "stream",
     "text": [
      "train layer0 in 10.48 sec\n",
      "train layer1 in 47.28 sec\n",
      "train layer2 in 45.52 sec\n",
      "train layer3 in 45.87 sec\n",
      "train layer4 in 41.48 sec\n",
      "train layer5 in 44.12 sec\n",
      "train layer6 in 43.02 sec\n",
      "train layer7 in 43.37 sec\n",
      "train layer8 in 46.28 sec\n",
      "train layer9 in 47.69 sec\n",
      "train layer10 in 48.73 sec\n",
      "train layer11 in 47.99 sec\n",
      "train layer12 in 48.15 sec\n",
      "train layer13 in 47.65 sec\n",
      "train layer14 in 48.25 sec\n",
      "train layer15 in 45.44 sec\n",
      "train layer16 in 43.79 sec\n",
      "train layer17 in 43.45 sec\n",
      "train layer18 in 44.61 sec\n",
      "train layer19 in 43.84 sec\n",
      "train layer20 in 43.67 sec\n",
      "train layer21 in 43.18 sec\n",
      "train layer22 in 47.02 sec\n",
      "train layer23 in 44.35 sec\n",
      "train layer24 in 44.22 sec\n",
      "train layer25 in 44.63 sec\n",
      "MAE=6421340804610.882\n"
     ]
    },
    {
     "name": "stderr",
     "output_type": "stream",
     "text": [
      "Process ForkPoolWorker-5:\n",
      "Process ForkPoolWorker-6:\n",
      "Traceback (most recent call last):\n",
      "  File \"/home/lisobol/anaconda3/lib/python3.7/multiprocessing/process.py\", line 297, in _bootstrap\n",
      "    self.run()\n",
      "  File \"/home/lisobol/anaconda3/lib/python3.7/multiprocessing/process.py\", line 99, in run\n",
      "    self._target(*self._args, **self._kwargs)\n",
      "  File \"/home/lisobol/anaconda3/lib/python3.7/multiprocessing/pool.py\", line 110, in worker\n",
      "    task = get()\n",
      "  File \"/home/lisobol/anaconda3/lib/python3.7/multiprocessing/queues.py\", line 351, in get\n",
      "    with self._rlock:\n",
      "  File \"/home/lisobol/anaconda3/lib/python3.7/multiprocessing/synchronize.py\", line 95, in __enter__\n",
      "    return self._semlock.__enter__()\n",
      "Traceback (most recent call last):\n",
      "KeyboardInterrupt\n",
      "  File \"/home/lisobol/anaconda3/lib/python3.7/multiprocessing/process.py\", line 297, in _bootstrap\n",
      "    self.run()\n",
      "  File \"/home/lisobol/anaconda3/lib/python3.7/multiprocessing/process.py\", line 99, in run\n",
      "    self._target(*self._args, **self._kwargs)\n",
      "  File \"/home/lisobol/anaconda3/lib/python3.7/multiprocessing/pool.py\", line 110, in worker\n",
      "    task = get()\n",
      "  File \"/home/lisobol/anaconda3/lib/python3.7/multiprocessing/queues.py\", line 352, in get\n",
      "    res = self._reader.recv_bytes()\n",
      "  File \"/home/lisobol/anaconda3/lib/python3.7/multiprocessing/connection.py\", line 216, in recv_bytes\n",
      "    buf = self._recv_bytes(maxlength)\n",
      "  File \"/home/lisobol/anaconda3/lib/python3.7/multiprocessing/connection.py\", line 407, in _recv_bytes\n",
      "    buf = self._recv(4)\n",
      "  File \"/home/lisobol/anaconda3/lib/python3.7/multiprocessing/connection.py\", line 379, in _recv\n",
      "    chunk = read(handle, remaining)\n",
      "KeyboardInterrupt\n"
     ]
    }
   ],
   "source": [
    "model = gmdh.MultilayerGMDH(ref_functions=('linear_cov', 'quadratic', \n",
    "                                               'cubic', 'linear'),\n",
    "                               n_jobs=2\n",
    "                               )\n",
    "model.fit(X_train, y_train)\n",
    "y_pred = model.predict(X_test)\n",
    "result = mean_absolute_error(y_test, y_pred)\n",
    "print('MAE={}'.format(result))"
   ]
  },
  {
   "cell_type": "code",
   "execution_count": 54,
   "metadata": {},
   "outputs": [
    {
     "name": "stdout",
     "output_type": "stream",
     "text": [
      "train layer0 in 15.88 sec\n",
      "train layer1 in 66.05 sec\n",
      "train layer2 in 66.15 sec\n",
      "train layer3 in 66.66 sec\n",
      "train layer4 in 67.51 sec\n",
      "train layer5 in 68.54 sec\n",
      "train layer6 in 68.09 sec\n",
      "train layer7 in 68.20 sec\n",
      "train layer8 in 67.01 sec\n",
      "train layer9 in 67.80 sec\n",
      "train layer10 in 68.10 sec\n",
      "train layer11 in 68.16 sec\n",
      "train layer12 in 67.78 sec\n",
      "train layer13 in 67.45 sec\n",
      "train layer14 in 67.30 sec\n",
      "train layer15 in 67.75 sec\n",
      "train layer16 in 67.57 sec\n",
      "train layer17 in 67.55 sec\n",
      "train layer18 in 67.47 sec\n",
      "train layer19 in 66.66 sec\n",
      "train layer20 in 67.82 sec\n",
      "train layer21 in 68.18 sec\n",
      "train layer22 in 67.93 sec\n",
      "train layer23 in 67.72 sec\n",
      "train layer24 in 67.99 sec\n",
      "train layer25 in 67.93 sec\n",
      "MAE=6421340804610.882\n"
     ]
    }
   ],
   "source": [
    "model = gmdh.MultilayerGMDH(ref_functions=('linear_cov', 'quadratic', \n",
    "                                               'cubic', 'linear'),\n",
    "                               criterion_minimum_width=5\n",
    "                               )\n",
    "model.fit(X_train, y_train)\n",
    "y_pred = model.predict(X_test)\n",
    "result = mean_absolute_error(y_test, y_pred)\n",
    "print('MAE={}'.format(result))"
   ]
  },
  {
   "cell_type": "code",
   "execution_count": 60,
   "metadata": {},
   "outputs": [
    {
     "name": "stdout",
     "output_type": "stream",
     "text": [
      "train layer0 in 3.02 sec\n",
      "train layer1 in 13.88 sec\n",
      "train layer2 in 13.54 sec\n",
      "train layer3 in 15.58 sec\n",
      "MAE=2856.70534740398\n"
     ]
    }
   ],
   "source": [
    "model = gmdh.MultilayerGMDH(ref_functions=('linear_cov'),\n",
    "                           max_layer_count=4)\n",
    "model.fit(X_train, y_train)\n",
    "y_pred = model.predict(X_test)\n",
    "result = mean_absolute_error(y_test, y_pred)\n",
    "print('MAE={}'.format(result))"
   ]
  },
  {
   "cell_type": "code",
   "execution_count": 61,
   "metadata": {},
   "outputs": [
    {
     "name": "stdout",
     "output_type": "stream",
     "text": [
      "train layer0 in 4.37 sec\n",
      "train layer1 in 18.78 sec\n",
      "train layer2 in 18.41 sec\n",
      "train layer3 in 18.92 sec\n",
      "MAE=3182.225760225751\n"
     ]
    }
   ],
   "source": [
    "model = gmdh.MultilayerGMDH(ref_functions=('quadratic'),\n",
    "                           max_layer_count=4)\n",
    "model.fit(X_train, y_train)\n",
    "y_pred = model.predict(X_test)\n",
    "result = mean_absolute_error(y_test, y_pred)\n",
    "print('MAE={}'.format(result))"
   ]
  },
  {
   "cell_type": "code",
   "execution_count": 62,
   "metadata": {},
   "outputs": [
    {
     "name": "stdout",
     "output_type": "stream",
     "text": [
      "train layer0 in 6.14 sec\n",
      "train layer1 in 24.60 sec\n",
      "train layer2 in 24.20 sec\n",
      "train layer3 in 24.45 sec\n",
      "MAE=3654496.822551804\n"
     ]
    }
   ],
   "source": [
    "model = gmdh.MultilayerGMDH(ref_functions=('cubic'),\n",
    "                           max_layer_count=4)\n",
    "model.fit(X_train, y_train)\n",
    "y_pred = model.predict(X_test)\n",
    "result = mean_absolute_error(y_test, y_pred)\n",
    "print('MAE={}'.format(result))"
   ]
  },
  {
   "cell_type": "code",
   "execution_count": 66,
   "metadata": {},
   "outputs": [
    {
     "name": "stdout",
     "output_type": "stream",
     "text": [
      "train layer0 in 16.77 sec\n",
      "train layer1 in 72.14 sec\n",
      "train layer2 in 75.26 sec\n",
      "train layer3 in 73.36 sec\n",
      "MAE=170223.6536631281\n"
     ]
    }
   ],
   "source": [
    "model = gmdh.MultilayerGMDH(ref_functions=('linear_cov', 'quadratic', \n",
    "                                               'cubic', 'linear'),                           \n",
    "                            max_layer_count=4)\n",
    "model.fit(X_train, y_train)\n",
    "y_pred = model.predict(X_test)\n",
    "result = mean_absolute_error(y_test, y_pred)\n",
    "print('MAE={}'.format(result))"
   ]
  },
  {
   "cell_type": "code",
   "execution_count": 78,
   "metadata": {},
   "outputs": [],
   "source": [
    "params = {\n",
    "    'ref_functions': ['linear_cov', 'quadratic', 'cubic', 'linear']\n",
    "    \n",
    "}"
   ]
  },
  {
   "cell_type": "code",
   "execution_count": 80,
   "metadata": {},
   "outputs": [
    {
     "name": "stdout",
     "output_type": "stream",
     "text": [
      "train layer0 in 3.18 sec\n",
      "train layer1 in 14.76 sec\n",
      "train layer2 in 16.33 sec\n",
      "Param value: linear_cov, MAE=2887.5624539528417\n",
      "\n",
      "train layer0 in 4.82 sec\n",
      "train layer1 in 18.74 sec\n",
      "train layer2 in 18.27 sec\n",
      "Param value: quadratic, MAE=3182.225760225751\n",
      "\n",
      "train layer0 in 5.91 sec\n",
      "train layer1 in 24.71 sec\n",
      "train layer2 in 25.34 sec\n",
      "Param value: cubic, MAE=3654496.822551804\n",
      "\n",
      "train layer0 in 3.04 sec\n",
      "train layer1 in 13.61 sec\n",
      "train layer2 in 12.34 sec\n",
      "Param value: linear, MAE=3733.7389473277804\n",
      "\n"
     ]
    }
   ],
   "source": [
    "for param in params['ref_functions']:\n",
    "    model = gmdh.MultilayerGMDH(ref_functions=(param),                           \n",
    "                            max_layer_count=3)\n",
    "    model.fit(X_train, y_train)\n",
    "    y_pred = model.predict(X_test)\n",
    "    result = mean_absolute_error(y_test, y_pred)\n",
    "    print('Param value: {}, MAE={}'.format(param, result))\n",
    "    print()"
   ]
  },
  {
   "cell_type": "markdown",
   "metadata": {},
   "source": [
    "Видим, что функция linear_cov лучше всех снизила ошибку."
   ]
  },
  {
   "cell_type": "code",
   "execution_count": 73,
   "metadata": {},
   "outputs": [],
   "source": [
    "params = {\n",
    "    'max_layer_count': [1,2,3,4,6,8, 10],\n",
    "    \n",
    "}"
   ]
  },
  {
   "cell_type": "code",
   "execution_count": 75,
   "metadata": {},
   "outputs": [
    {
     "name": "stdout",
     "output_type": "stream",
     "text": [
      "train layer0 in 3.51 sec\n",
      "Param value: 1, MAE=3446.9622156171276\n",
      "\n",
      "train layer0 in 3.42 sec\n",
      "train layer1 in 14.41 sec\n",
      "Param value: 2, MAE=3021.9403458283196\n",
      "\n",
      "train layer0 in 3.45 sec\n",
      "train layer1 in 14.27 sec\n",
      "train layer2 in 14.39 sec\n",
      "Param value: 3, MAE=2887.5624539528417\n",
      "\n",
      "train layer0 in 3.21 sec\n",
      "train layer1 in 14.24 sec\n",
      "train layer2 in 15.76 sec\n",
      "train layer3 in 15.32 sec\n",
      "Param value: 4, MAE=2856.70534740398\n",
      "\n",
      "train layer0 in 3.30 sec\n",
      "train layer1 in 16.20 sec\n",
      "train layer2 in 14.49 sec\n",
      "train layer3 in 14.54 sec\n",
      "train layer4 in 15.00 sec\n",
      "train layer5 in 15.43 sec\n",
      "Param value: 6, MAE=2720.0356332397296\n",
      "\n",
      "train layer0 in 3.27 sec\n",
      "train layer1 in 14.47 sec\n",
      "train layer2 in 13.71 sec\n",
      "train layer3 in 15.91 sec\n",
      "train layer4 in 14.78 sec\n",
      "train layer5 in 14.61 sec\n",
      "train layer6 in 14.66 sec\n",
      "train layer7 in 14.52 sec\n",
      "Param value: 8, MAE=3573.4037932916804\n",
      "\n",
      "train layer0 in 3.47 sec\n",
      "train layer1 in 15.28 sec\n",
      "train layer2 in 15.36 sec\n",
      "train layer3 in 14.79 sec\n",
      "train layer4 in 14.10 sec\n",
      "train layer5 in 14.30 sec\n",
      "train layer6 in 14.31 sec\n",
      "train layer7 in 14.96 sec\n",
      "train layer8 in 14.41 sec\n",
      "train layer9 in 16.57 sec\n",
      "Param value: 10, MAE=238297.05624986373\n",
      "\n"
     ]
    }
   ],
   "source": [
    "for param in params['max_layer_count']:\n",
    "    model = gmdh.MultilayerGMDH(ref_functions=('linear_cov'),                           \n",
    "                            max_layer_count=param)\n",
    "    model.fit(X_train, y_train)\n",
    "    y_pred = model.predict(X_test)\n",
    "    result = mean_absolute_error(y_test, y_pred)\n",
    "    print('Param value: {}, MAE={}'.format(param, result))\n",
    "    print()"
   ]
  },
  {
   "cell_type": "markdown",
   "metadata": {},
   "source": [
    "### 6. Повтор пункта 4 для найденных оптимальных значений гиперпараметров. Сравнение качества полученных моделей с качеством моделей, полученных в пункте 4"
   ]
  },
  {
   "cell_type": "code",
   "execution_count": 494,
   "metadata": {},
   "outputs": [
    {
     "name": "stderr",
     "output_type": "stream",
     "text": [
      "/home/lisobol/tensorflow_env/my_tensorflow/lib/python3.7/site-packages/sklearn/tree/_classes.py:301: FutureWarning: The min_impurity_split parameter is deprecated. Its default value will change from 1e-7 to 0 in version 0.23, and it will be removed in 0.25. Use the min_impurity_decrease parameter instead.\n",
      "  FutureWarning)\n",
      "/home/lisobol/tensorflow_env/my_tensorflow/lib/python3.7/site-packages/sklearn/tree/_classes.py:301: FutureWarning: The min_impurity_split parameter is deprecated. Its default value will change from 1e-7 to 0 in version 0.23, and it will be removed in 0.25. Use the min_impurity_decrease parameter instead.\n",
      "  FutureWarning)\n",
      "/home/lisobol/tensorflow_env/my_tensorflow/lib/python3.7/site-packages/sklearn/tree/_classes.py:301: FutureWarning: The min_impurity_split parameter is deprecated. Its default value will change from 1e-7 to 0 in version 0.23, and it will be removed in 0.25. Use the min_impurity_decrease parameter instead.\n",
      "  FutureWarning)\n",
      "/home/lisobol/tensorflow_env/my_tensorflow/lib/python3.7/site-packages/sklearn/tree/_classes.py:301: FutureWarning: The min_impurity_split parameter is deprecated. Its default value will change from 1e-7 to 0 in version 0.23, and it will be removed in 0.25. Use the min_impurity_decrease parameter instead.\n",
      "  FutureWarning)\n",
      "/home/lisobol/tensorflow_env/my_tensorflow/lib/python3.7/site-packages/sklearn/tree/_classes.py:301: FutureWarning: The min_impurity_split parameter is deprecated. Its default value will change from 1e-7 to 0 in version 0.23, and it will be removed in 0.25. Use the min_impurity_decrease parameter instead.\n",
      "  FutureWarning)\n",
      "/home/lisobol/tensorflow_env/my_tensorflow/lib/python3.7/site-packages/sklearn/tree/_classes.py:301: FutureWarning: The min_impurity_split parameter is deprecated. Its default value will change from 1e-7 to 0 in version 0.23, and it will be removed in 0.25. Use the min_impurity_decrease parameter instead.\n",
      "  FutureWarning)\n",
      "/home/lisobol/tensorflow_env/my_tensorflow/lib/python3.7/site-packages/sklearn/tree/_classes.py:301: FutureWarning: The min_impurity_split parameter is deprecated. Its default value will change from 1e-7 to 0 in version 0.23, and it will be removed in 0.25. Use the min_impurity_decrease parameter instead.\n",
      "  FutureWarning)\n",
      "/home/lisobol/tensorflow_env/my_tensorflow/lib/python3.7/site-packages/sklearn/tree/_classes.py:301: FutureWarning: The min_impurity_split parameter is deprecated. Its default value will change from 1e-7 to 0 in version 0.23, and it will be removed in 0.25. Use the min_impurity_decrease parameter instead.\n",
      "  FutureWarning)\n",
      "/home/lisobol/tensorflow_env/my_tensorflow/lib/python3.7/site-packages/sklearn/tree/_classes.py:301: FutureWarning: The min_impurity_split parameter is deprecated. Its default value will change from 1e-7 to 0 in version 0.23, and it will be removed in 0.25. Use the min_impurity_decrease parameter instead.\n",
      "  FutureWarning)\n",
      "/home/lisobol/tensorflow_env/my_tensorflow/lib/python3.7/site-packages/sklearn/tree/_classes.py:301: FutureWarning: The min_impurity_split parameter is deprecated. Its default value will change from 1e-7 to 0 in version 0.23, and it will be removed in 0.25. Use the min_impurity_decrease parameter instead.\n",
      "  FutureWarning)\n",
      "/home/lisobol/tensorflow_env/my_tensorflow/lib/python3.7/site-packages/sklearn/tree/_classes.py:301: FutureWarning: The min_impurity_split parameter is deprecated. Its default value will change from 1e-7 to 0 in version 0.23, and it will be removed in 0.25. Use the min_impurity_decrease parameter instead.\n",
      "  FutureWarning)\n"
     ]
    },
    {
     "name": "stdout",
     "output_type": "stream",
     "text": [
      "Metric: mean_absolute_error\n",
      "Folds accuracy: [82.93794770962629, 76.72190307693761, 76.38549607849212, 81.42345670530885, 77.26296958822235, 75.66363891065595, 85.54545956892413, 79.799864867851, 79.92263363066833, 81.32749639769646]\n",
      "Mean accuracy: 79.6990866534383\n",
      "Standard Deviation: 3.0400428691952763\n",
      "Variance: 9.241860646545048\n"
     ]
    }
   ],
   "source": [
    "# Возьмем лучшую модель: 'TREE+RF=>LR'\n",
    "# модели первого уровня\n",
    "model_tree = Regressor(dataset=dataset, estimator=DecisionTreeRegressor, parameters={'min_impurity_split':1.5},name='tree')\n",
    "model_lr = Regressor(dataset=dataset, estimator=LinearRegression, parameters={'normalize': True},name='lr')\n",
    "model_rf = Regressor(dataset=dataset, estimator=RandomForestRegressor, parameters={'n_estimators': 50},name='rf')\n",
    "\n",
    "# Эксперимент 2.1\n",
    "# Первый уровень - две модели: дерево и случайный лес\n",
    "# Второй уровень: линейная регрессия \n",
    "pipeline = ModelsPipeline(model_tree, model_rf)\n",
    "stack_ds = pipeline.stack(k=10, seed=1)\n",
    "# модель второго уровня\n",
    "stacker = Regressor(dataset=stack_ds, estimator=LinearRegression)\n",
    "results = stacker.validate(k=10,scorer=mean_absolute_error)"
   ]
  },
  {
   "cell_type": "markdown",
   "metadata": {},
   "source": [
    "Удалось немного улучшить результат"
   ]
  },
  {
   "cell_type": "markdown",
   "metadata": {},
   "source": [
    "#### Метод группового учета аргументов"
   ]
  },
  {
   "cell_type": "code",
   "execution_count": 81,
   "metadata": {},
   "outputs": [
    {
     "name": "stdout",
     "output_type": "stream",
     "text": [
      "train layer0 in 17.21 sec\n",
      "train layer1 in 70.49 sec\n",
      "train layer2 in 70.70 sec\n",
      "train layer3 in 71.41 sec\n",
      "train layer4 in 75.24 sec\n",
      "train layer5 in 72.57 sec\n",
      "MAE=1111093477670.3252\n"
     ]
    }
   ],
   "source": [
    "model = gmdh.MultilayerGMDH(ref_functions=('linear_cov', 'quadratic', \n",
    "                                               'cubic', 'linear'),                           \n",
    "                            max_layer_count=6)\n",
    "model.fit(X_train, y_train)\n",
    "y_pred = model.predict(X_test)\n",
    "result = mean_absolute_error(y_test, y_pred)\n",
    "print('MAE={}'.format(result))"
   ]
  },
  {
   "cell_type": "markdown",
   "metadata": {},
   "source": [
    "Результат удалось существенно улучшить, однако ошибка все еще очень большая, модель требует дальнейшего исследования, пока она к данной задаче не применима."
   ]
  },
  {
   "cell_type": "markdown",
   "metadata": {},
   "source": [
    "### Вывод:\n",
    "- В процессе выполнения данной лабораторной работы было определено, что наилучшим образом себя показывает ансамблевая модель, где на первом уровне находятся модели случайный лес и дерево решений, а на втором- линейная регрессия. Ансамблевые методы с линейной регрессией на первом уровне показали себя хуже всего. Так же было выяснено, что модель случайный лес по тосности соспоставима с лучшими ансамблевыми моделями, хотя все же совсем немного им уступает. \n",
    "- Метод группового учета оказался сложнее в настройке и хотя и удалось значительно улучшить результат, этого оказалось недостаточно, поскольку ошибка все еще слишком большая."
   ]
  },
  {
   "cell_type": "code",
   "execution_count": null,
   "metadata": {},
   "outputs": [],
   "source": []
  }
 ],
 "metadata": {
  "kernelspec": {
   "display_name": "Python 3",
   "language": "python",
   "name": "python3"
  },
  "language_info": {
   "codemirror_mode": {
    "name": "ipython",
    "version": 3
   },
   "file_extension": ".py",
   "mimetype": "text/x-python",
   "name": "python",
   "nbconvert_exporter": "python",
   "pygments_lexer": "ipython3",
   "version": "3.7.4"
  }
 },
 "nbformat": 4,
 "nbformat_minor": 4
}
